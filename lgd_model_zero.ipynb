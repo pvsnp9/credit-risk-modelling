{
 "cells": [
  {
   "cell_type": "markdown",
   "metadata": {},
   "source": [
    "LGD: The percentage of the exposure that was lost after borrower defaulted. \n",
    "\n",
    "EAD: The amount of exposure at the moment the borrower defaulted. \n",
    "\n",
    "The feature variables in LGD and EAD models need not to be one-hot encoded variables. "
   ]
  },
  {
   "cell_type": "code",
   "execution_count": 1,
   "metadata": {},
   "outputs": [],
   "source": [
    "import re\n",
    "import numpy as np \n",
    "import pandas as pd \n",
    "import seaborn as sns \n",
    "import matplotlib.pyplot as plt\n",
    "from joblib import dump\n",
    "import statsmodels.api as sm\n",
    "from logistic_regression_wrapper import LogisticRegressionWrapper\n",
    "from linear_regression_wrapper import LinearRegressionWrapper\n",
    "from sklearn.metrics import confusion_matrix, classification_report, roc_curve, auc, mean_absolute_error\n",
    "from sklearn.model_selection import train_test_split"
   ]
  },
  {
   "cell_type": "code",
   "execution_count": 2,
   "metadata": {},
   "outputs": [],
   "source": [
    "data_path = f\"./data/\"\n",
    "model_path = f\"./models/\""
   ]
  },
  {
   "cell_type": "code",
   "execution_count": 3,
   "metadata": {},
   "outputs": [],
   "source": [
    "train_data = pd.read_csv(f\"{data_path}processed_train.csv\")\n",
    "test_data = pd.read_csv(f\"{data_path}processed_test.csv\")\n",
    "\n",
    "data = pd.concat([train_data, test_data], ignore_index=True)\n",
    "data_copy = data.copy()\n"
   ]
  },
  {
   "cell_type": "code",
   "execution_count": 4,
   "metadata": {},
   "outputs": [
    {
     "data": {
      "text/plain": [
       "(466285,)"
      ]
     },
     "execution_count": 4,
     "metadata": {},
     "output_type": "execute_result"
    }
   ],
   "source": [
    "loan_defaults = data_copy[\"loan_status\"].isin([\"Charged Off\", \"Does not meet the credit policy. Status:Fully Paid\"])\n",
    "loan_defaults.shape"
   ]
  },
  {
   "cell_type": "code",
   "execution_count": 5,
   "metadata": {},
   "outputs": [],
   "source": [
    "pd.options.display.max_rows = None"
   ]
  },
  {
   "cell_type": "code",
   "execution_count": 6,
   "metadata": {},
   "outputs": [
    {
     "data": {
      "text/plain": [
       "Unnamed: 0                                                              0\n",
       "purpose:medical_vacation_wedding                                        0\n",
       "purpose:educ_small_biz_wedd_renno_enerby_moving_other_house             0\n",
       "addr_state:WV_WY_DC_ME                                                  0\n",
       "addr_state:VT_MS_NH_AK_MT                                               0\n",
       "addr_state:IL_SC_CT_KS_CO                                               0\n",
       "addr_state:IN_OR_WA_WI                                                  0\n",
       "purpose:major_purchase_home_imp_car                                     0\n",
       "addr_state:KY_MN_GA_SD                                                  0\n",
       "addr_state:AR_PR_MI                                                     0\n",
       "addr_state:NJ_AZ_VA_OK_TN                                               0\n",
       "addr_state:NC_NM                                                        0\n",
       "addr_state:LA_MO_DE_MD                                                  0\n",
       "addr_state:NE_IA_NV_AL_ID_ND_FL_HI                                      0\n",
       "addr_state:ND                                                           0\n",
       "addr_state:UT_MA_RI_OH                                                  0\n",
       "term:36                                                                 0\n",
       "term:60                                                                 0\n",
       "emp_length:0                                                            0\n",
       "int_rate:<9.54                                                          0\n",
       "int_rate_factor                                                         0\n",
       "months_since_issued_date:>172                                           0\n",
       "months_since_issued_date:149_172                                        0\n",
       "months_since_issued_date:131_149                                        0\n",
       "months_since_issued_date:123_131                                        0\n",
       "months_since_issued_date:119_123                                        0\n",
       "months_since_issued_date:117_119                                        0\n",
       "months_since_issued_date:<117                                           0\n",
       "months_since_issued_date_factor                                         0\n",
       "emp_length:10                                                           0\n",
       "emp_length:7_9                                                          0\n",
       "emp_length:5_6                                                          0\n",
       "emp_length:2_4                                                          0\n",
       "emp_length:1                                                            0\n",
       "home_ownership:RENT_OTHER_NONE_ANY                                      0\n",
       "initial_list_status:w                                                   0\n",
       "initial_list_status:f                                                   0\n",
       "addr_state:WY                                                           0\n",
       "addr_state:NH                                                           0\n",
       "addr_state:NE                                                           0\n",
       "addr_state:NC                                                           0\n",
       "addr_state:MT                                                           0\n",
       "addr_state:MS                                                           0\n",
       "addr_state:MO                                                           0\n",
       "addr_state:MN                                                           0\n",
       "addr_state:MI                                                           0\n",
       "addr_state:ME                                                           0\n",
       "addr_state:MD                                                           0\n",
       "addr_state:MA                                                           0\n",
       "addr_state:LA                                                           0\n",
       "addr_state:KY                                                           0\n",
       "addr_state:KS                                                           0\n",
       "addr_state:IN                                                           0\n",
       "addr_state:NJ                                                           0\n",
       "int_rate:9.54_12.025                                                    0\n",
       "addr_state:NM                                                           0\n",
       "addr_state:NY                                                           0\n",
       "addr_state:WV                                                           0\n",
       "addr_state:WI                                                           0\n",
       "addr_state:WA                                                           0\n",
       "addr_state:VT                                                           0\n",
       "addr_state:VA                                                           0\n",
       "addr_state:UT                                                           0\n",
       "addr_state:TX                                                           0\n",
       "addr_state:TN                                                           0\n",
       "addr_state:SD                                                           0\n",
       "addr_state:SC                                                           0\n",
       "addr_state:RI                                                           0\n",
       "addr_state:PA                                                           0\n",
       "addr_state:OR                                                           0\n",
       "addr_state:OK                                                           0\n",
       "addr_state:OH                                                           0\n",
       "addr_state:NV                                                           0\n",
       "addr_state:IL                                                           0\n",
       "int_rate:12.025_15.74                                                   0\n",
       "int_rate:>20.281                                                        0\n",
       "dti_factor                                                              0\n",
       "acc_now_delinq:>=1                                                      0\n",
       "acc_now_delinq:0                                                        0\n",
       "total_acc:>=50                                                          0\n",
       "total_acc:28_50                                                         0\n",
       "total_acc:<=28                                                          0\n",
       "dti:<=1.6                                                               0\n",
       "total_acc_factor                                                        0\n",
       "pub_rec:3_4                                                             0\n",
       "pub_rec:0_2                                                             0\n",
       "open_acc:>=31                                                           0\n",
       "open_acc:26_30                                                          0\n",
       "open_acc:23_25                                                          0\n",
       "open_acc:18_22                                                          0\n",
       "pub_rec:>=5                                                             0\n",
       "dti:1.6_6.39                                                            0\n",
       "dti:6.39_10.39                                                          0\n",
       "dti:12.97_16.79                                                         0\n",
       "total_rev_hi_lim:55K_95K                                                0\n",
       "total_rev_hi_lim:40K_55K                                                0\n",
       "total_rev_hi_lim:30K_40K                                                0\n",
       "total_rev_hi_lim:20K_30K                                                0\n",
       "total_rev_hi_lim:10K_20K                                                0\n",
       "total_rev_hi_lim:5K_10K                                                 0\n",
       "total_rev_hi_lim:<=5K                                                   0\n",
       "total_rev_hi_lim_factor                                                 0\n",
       "mths_since_last_record:>2                                               0\n",
       "mths_since_last_record:0_2                                              0\n",
       "mths_since_last_record_factor                                           0\n",
       "dti:>32                                                                 0\n",
       "dti:24.9_31.99                                                          0\n",
       "dti:20.75_23.99                                                         0\n",
       "dti:17.59_19.95                                                         0\n",
       "open_acc:13_17                                                          0\n",
       "open_acc:4_12                                                           0\n",
       "open_acc:<4                                                             0\n",
       "inq_last_6mths:>6                                                       0\n",
       "mths_since_last_delinq:0_3                                              0\n",
       "annual_inc:>140K                                                        0\n",
       "annual_inc:<120K_140K                                                   0\n",
       "annual_inc:<100K_120K                                                   0\n",
       "annual_inc:<90K_100K                                                    0\n",
       "annual_inc:<80K_90K                                                     0\n",
       "annual_inc:<70K_80K                                                     0\n",
       "annual_inc:<60K_70K                                                     0\n",
       "annual_inc:<50K_60K                                                     0\n",
       "annual_inc:<40K_50K                                                     0\n",
       "annual_inc:<30K_40K                                                     0\n",
       "annual_inc:<20K_30K                                                     0\n",
       "annual_inc:<20K                                                         0\n",
       "annual_inc_factor                                                       0\n",
       "funded_amnt_factor                                                      0\n",
       "mths_since_last_delinq:4_37                                             0\n",
       "int_rate:15.74_20.281                                                   0\n",
       "mths_since_last_delinq:37_56                                            0\n",
       "mths_since_last_delinq:missing                                          0\n",
       "inq_last_6mths:3_6                                                      0\n",
       "inq_last_6mths:1_2                                                      0\n",
       "inq_last_6mths:0                                                        0\n",
       "delinq_2yrs:>7                                                          0\n",
       "delinq_2yrs:4_7                                                         0\n",
       "delinq_2yrs:1_3                                                         0\n",
       "delinq_2yrs:0                                                           0\n",
       "installment_factor                                                      0\n",
       "months_since_earliest_cr_line:>486                                      0\n",
       "months_since_earliest_cr_line:371_471                                   0\n",
       "months_since_earliest_cr_line:257_371                                   0\n",
       "months_since_earliest_cr_line:228_257                                   0\n",
       "months_since_earliest_cr_line:171_228                                   0\n",
       "months_since_earliest_cr_line:<171                                      0\n",
       "months_since_earliest_cr_line_factor                                    0\n",
       "mths_since_last_delinq:>56                                              0\n",
       "total_rev_hi_lim:>95K                                                   0\n",
       "addr_state:ID                                                           0\n",
       "addr_state:HI                                                           0\n",
       "total_rec_prncp                                                         0\n",
       "total_rec_int                                                           0\n",
       "total_rec_late_fee                                                      0\n",
       "recoveries                                                              0\n",
       "collection_recovery_fee                                                 0\n",
       "last_pymnt_amnt                                                         0\n",
       "policy_code                                                             0\n",
       "application_type                                                        0\n",
       "acc_now_delinq                                                          0\n",
       "total_rev_hi_lim                                                        0\n",
       "months_since_earliest_cr_line                                           0\n",
       "issue_d_date                                                            0\n",
       "months_since_issued_date                                                0\n",
       "grade:A                                                                 0\n",
       "total_pymnt_inv                                                         0\n",
       "grade:B                                                                 0\n",
       "grade:D                                                                 0\n",
       "grade:E                                                                 0\n",
       "grade:F                                                                 0\n",
       "grade:G                                                                 0\n",
       "sub_grade:A1                                                            0\n",
       "sub_grade:A2                                                            0\n",
       "sub_grade:A3                                                            0\n",
       "sub_grade:A4                                                            0\n",
       "addr_state:IA                                                           0\n",
       "sub_grade:B1                                                            0\n",
       "sub_grade:B2                                                            0\n",
       "sub_grade:B3                                                            0\n",
       "sub_grade:B4                                                            0\n",
       "sub_grade:B5                                                            0\n",
       "grade:C                                                                 0\n",
       "sub_grade:C1                                                            0\n",
       "total_pymnt                                                             0\n",
       "out_prncp                                                               0\n",
       "id                                                                      0\n",
       "member_id                                                               0\n",
       "loan_amnt                                                               0\n",
       "funded_amnt                                                             0\n",
       "funded_amnt_inv                                                         0\n",
       "term                                                                    0\n",
       "int_rate                                                                0\n",
       "installment                                                             0\n",
       "grade                                                                   0\n",
       "sub_grade                                                               0\n",
       "emp_length                                                              0\n",
       "home_ownership                                                          0\n",
       "annual_inc                                                              0\n",
       "verification_status                                                     0\n",
       "out_prncp_inv                                                           0\n",
       "issue_d                                                                 0\n",
       "pymnt_plan                                                              0\n",
       "url                                                                     0\n",
       "purpose                                                                 0\n",
       "zip_code                                                                0\n",
       "addr_state                                                              0\n",
       "dti                                                                     0\n",
       "delinq_2yrs                                                             0\n",
       "inq_last_6mths                                                          0\n",
       "mths_since_last_record                                                  0\n",
       "open_acc                                                                0\n",
       "pub_rec                                                                 0\n",
       "revol_bal                                                               0\n",
       "total_acc                                                               0\n",
       "initial_list_status                                                     0\n",
       "loan_status                                                             0\n",
       "sub_grade:C2                                                            0\n",
       "sub_grade:A5                                                            0\n",
       "sub_grade:C4                                                            0\n",
       "purpose:house                                                           0\n",
       "purpose:home_improvement                                                0\n",
       "purpose:educational                                                     0\n",
       "purpose:debt_consolidation                                              0\n",
       "purpose:credit_card                                                     0\n",
       "purpose:car                                                             0\n",
       "loan_status:Late (31-120 days)                                          0\n",
       "loan_status:Late (16-30 days)                                           0\n",
       "loan_status:In Grace Period                                             0\n",
       "loan_status:Fully Paid                                                  0\n",
       "loan_status:Does not meet the credit policy. Status:Fully Paid          0\n",
       "loan_status:Does not meet the credit policy. Status:Charged Off         0\n",
       "loan_status:Default                                                     0\n",
       "sub_grade:C3                                                            0\n",
       "loan_status:Charged Off                                                 0\n",
       "purpose:major_purchase                                                  0\n",
       "verification_status:Verified                                            0\n",
       "purpose:medical                                                         0\n",
       "purpose:other                                                           0\n",
       "addr_state:GA                                                           0\n",
       "addr_state:FL                                                           0\n",
       "addr_state:DE                                                           0\n",
       "addr_state:DC                                                           0\n",
       "addr_state:CT                                                           0\n",
       "addr_state:CO                                                           0\n",
       "addr_state:CA                                                           0\n",
       "addr_state:AZ                                                           0\n",
       "addr_state:AR                                                           0\n",
       "addr_state:AL                                                           0\n",
       "addr_state:AK                                                           0\n",
       "purpose:wedding                                                         0\n",
       "purpose:vacation                                                        0\n",
       "purpose:small_business                                                  0\n",
       "purpose:renewable_energy                                                0\n",
       "purpose:moving                                                          0\n",
       "verification_status:Source Verified                                     0\n",
       "loan_status:Current                                                     0\n",
       "home_ownership:RENT                                                     0\n",
       "sub_grade:G1                                                            0\n",
       "sub_grade:F5                                                            0\n",
       "sub_grade:F4                                                            0\n",
       "sub_grade:F3                                                            0\n",
       "sub_grade:F2                                                            0\n",
       "sub_grade:F1                                                            0\n",
       "sub_grade:E5                                                            0\n",
       "sub_grade:E4                                                            0\n",
       "sub_grade:E3                                                            0\n",
       "sub_grade:E2                                                            0\n",
       "sub_grade:E1                                                            0\n",
       "sub_grade:D5                                                            0\n",
       "sub_grade:D4                                                            0\n",
       "sub_grade:D3                                                            0\n",
       "sub_grade:D2                                                            0\n",
       "sub_grade:D1                                                            0\n",
       "sub_grade:C5                                                            0\n",
       "sub_grade:G2                                                            0\n",
       "verification_status:Not Verified                                        0\n",
       "good_bad                                                                0\n",
       "home_ownership:MORTGAGE                                                 0\n",
       "sub_grade:G4                                                            0\n",
       "home_ownership:OWN                                                      0\n",
       "sub_grade:G5                                                            0\n",
       "home_ownership:OTHER                                                    0\n",
       "home_ownership:NONE                                                     0\n",
       "sub_grade:G3                                                            0\n",
       "home_ownership:ANY                                                      0\n",
       "title                                                                  21\n",
       "earliest_cr_line                                                       29\n",
       "earliest_cr_line_date                                                  29\n",
       "last_credit_pull_d                                                     42\n",
       "collections_12_mths_ex_med                                            145\n",
       "revol_util                                                            340\n",
       "last_pymnt_d                                                          376\n",
       "emp_title                                                           27588\n",
       "tot_coll_amt                                                        70276\n",
       "tot_cur_bal                                                         70276\n",
       "next_pymnt_d                                                       227214\n",
       "mths_since_last_delinq                                             250351\n",
       "desc                                                               340304\n",
       "mths_since_last_major_derog                                        367311\n",
       "dtype: int64"
      ]
     },
     "execution_count": 6,
     "metadata": {},
     "output_type": "execute_result"
    }
   ],
   "source": [
    "data_copy.isnull().sum().sort_values()"
   ]
  },
  {
   "cell_type": "code",
   "execution_count": 7,
   "metadata": {},
   "outputs": [],
   "source": [
    "data_copy[\"mths_since_last_delinq\"].fillna(0, inplace=True)"
   ]
  },
  {
   "cell_type": "code",
   "execution_count": 8,
   "metadata": {},
   "outputs": [
    {
     "data": {
      "text/plain": [
       "count    466285.000000\n",
       "mean          0.005640\n",
       "std           0.032533\n",
       "min           0.000000\n",
       "25%           0.000000\n",
       "50%           0.000000\n",
       "75%           0.000000\n",
       "max           1.220774\n",
       "Name: recovery_rate, dtype: float64"
      ]
     },
     "execution_count": 8,
     "metadata": {},
     "output_type": "execute_result"
    }
   ],
   "source": [
    "data_copy[\"recovery_rate\"] = data_copy['recoveries'] / data_copy['funded_amnt']\n",
    "\n",
    "data_copy[\"recovery_rate\"].describe()"
   ]
  },
  {
   "cell_type": "code",
   "execution_count": 9,
   "metadata": {},
   "outputs": [
    {
     "data": {
      "image/png": "[encoded data removed]",
      "text/plain": [
       "<Figure size 640x480 with 1 Axes>"
      ]
     },
     "metadata": {},
     "output_type": "display_data"
    }
   ],
   "source": [
    "# Create a distribution plot for each distribution\n",
    "\n",
    "sns.histplot(data=data_copy, x='funded_amnt', bins=30, kde=True, label='Funded amount', color='blue')\n",
    "sns.histplot(data=data_copy, x='recoveries', bins=30, kde=True, label='Recovered Amount', color='orange')\n",
    "\n",
    "# sns.kdeplot(suspects[\"total_rec_prncp\"], label='total recovered principle', color='orange')\n",
    "\n",
    "# Add labels and title\n",
    "plt.ylabel('frequency')\n",
    "plt.xlabel('Amount')\n",
    "plt.title('Funded Amount and Recoveries')\n",
    "\n",
    "# Add a legend\n",
    "plt.legend()\n",
    "\n",
    "# Show the plot\n",
    "plt.show()"
   ]
  },
  {
   "cell_type": "markdown",
   "metadata": {},
   "source": [
    "The LGD rate should fall in 0 - 1 range. As displayed by described method, the max value of recovery rate is 1.22 that could be result of accounting error. Lets clipt them to 1."
   ]
  },
  {
   "cell_type": "code",
   "execution_count": 10,
   "metadata": {},
   "outputs": [
    {
     "data": {
      "text/plain": [
       "count    466285.000000\n",
       "mean          0.005635\n",
       "std           0.032380\n",
       "min           0.000000\n",
       "25%           0.000000\n",
       "50%           0.000000\n",
       "75%           0.000000\n",
       "max           1.000000\n",
       "Name: recovery_rate, dtype: float64"
      ]
     },
     "execution_count": 10,
     "metadata": {},
     "output_type": "execute_result"
    }
   ],
   "source": [
    "data_copy[\"recovery_rate\"] = np.where(data_copy[\"recovery_rate\"] > 1, 1, data_copy[\"recovery_rate\"])\n",
    "data_copy[\"recovery_rate\"] = np.where(data_copy[\"recovery_rate\"] < 0, 0, data_copy[\"recovery_rate\"])\n",
    "data_copy[\"recovery_rate\"].describe()"
   ]
  },
  {
   "cell_type": "markdown",
   "metadata": {},
   "source": [
    "EAD = total funded amount X credit conversion factor\n",
    "\n",
    "Default at a % of the funded amount (credit conversion factor) i.e defaulted at amount 360000 (still need to pay by borrower) / funded amount "
   ]
  },
  {
   "cell_type": "code",
   "execution_count": 11,
   "metadata": {},
   "outputs": [
    {
     "data": {
      "image/png": "[encoded data removed]",
      "text/plain": [
       "<Figure size 640x480 with 1 Axes>"
      ]
     },
     "metadata": {},
     "output_type": "display_data"
    }
   ],
   "source": [
    "plt.hist(data_copy[\"recovery_rate\"], bins=50)     \n",
    "plt.title(\"Recovery rate\")\n",
    "plt.grid(True)\n",
    "plt.xlabel(\"rates\")\n",
    "plt.xticks(rotation=90)\n",
    "plt.ylabel(\"count\")\n",
    "plt.show()\n"
   ]
  },
  {
   "cell_type": "code",
   "execution_count": 12,
   "metadata": {},
   "outputs": [
    {
     "data": {
      "text/plain": [
       "count    466285.000000\n",
       "mean          0.344844\n",
       "std           0.327627\n",
       "min          -0.021734\n",
       "25%           0.000000\n",
       "50%           0.347625\n",
       "75%           0.643997\n",
       "max           1.000000\n",
       "Name: ccf, dtype: float64"
      ]
     },
     "execution_count": 12,
     "metadata": {},
     "output_type": "execute_result"
    }
   ],
   "source": [
    "# total recovered principal is the payments made on the principal of the loan. CCF is credit conversion factor\n",
    "data_copy[\"ccf\"] = (data_copy['funded_amnt'] - data_copy[\"total_rec_prncp\"]) / data_copy[\"funded_amnt\"]\n",
    "data_copy[\"ccf\"].describe()"
   ]
  },
  {
   "cell_type": "code",
   "execution_count": 13,
   "metadata": {},
   "outputs": [
    {
     "data": {
      "text/html": [
       "<div>\n",
       "<style scoped>\n",
       "    .dataframe tbody tr th:only-of-type {\n",
       "        vertical-align: middle;\n",
       "    }\n",
       "\n",
       "    .dataframe tbody tr th {\n",
       "        vertical-align: top;\n",
       "    }\n",
       "\n",
       "    .dataframe thead th {\n",
       "        text-align: right;\n",
       "    }\n",
       "</style>\n",
       "<table border=\"1\" class=\"dataframe\">\n",
       "  <thead>\n",
       "    <tr style=\"text-align: right;\">\n",
       "      <th></th>\n",
       "      <th>funded_amnt</th>\n",
       "      <th>total_rec_prncp</th>\n",
       "    </tr>\n",
       "  </thead>\n",
       "  <tbody>\n",
       "    <tr>\n",
       "      <th>count</th>\n",
       "      <td>1412.000000</td>\n",
       "      <td>1412.000000</td>\n",
       "    </tr>\n",
       "    <tr>\n",
       "      <th>mean</th>\n",
       "      <td>14377.195467</td>\n",
       "      <td>14377.642025</td>\n",
       "    </tr>\n",
       "    <tr>\n",
       "      <th>std</th>\n",
       "      <td>7453.893393</td>\n",
       "      <td>7454.698969</td>\n",
       "    </tr>\n",
       "    <tr>\n",
       "      <th>min</th>\n",
       "      <td>1000.000000</td>\n",
       "      <td>1000.010000</td>\n",
       "    </tr>\n",
       "    <tr>\n",
       "      <th>25%</th>\n",
       "      <td>9000.000000</td>\n",
       "      <td>9000.010000</td>\n",
       "    </tr>\n",
       "    <tr>\n",
       "      <th>50%</th>\n",
       "      <td>13000.000000</td>\n",
       "      <td>13000.010000</td>\n",
       "    </tr>\n",
       "    <tr>\n",
       "      <th>75%</th>\n",
       "      <td>20000.000000</td>\n",
       "      <td>20000.010000</td>\n",
       "    </tr>\n",
       "    <tr>\n",
       "      <th>max</th>\n",
       "      <td>35000.000000</td>\n",
       "      <td>35000.030000</td>\n",
       "    </tr>\n",
       "  </tbody>\n",
       "</table>\n",
       "</div>"
      ],
      "text/plain": [
       "        funded_amnt  total_rec_prncp\n",
       "count   1412.000000      1412.000000\n",
       "mean   14377.195467     14377.642025\n",
       "std     7453.893393      7454.698969\n",
       "min     1000.000000      1000.010000\n",
       "25%     9000.000000      9000.010000\n",
       "50%    13000.000000     13000.010000\n",
       "75%    20000.000000     20000.010000\n",
       "max    35000.000000     35000.030000"
      ]
     },
     "execution_count": 13,
     "metadata": {},
     "output_type": "execute_result"
    }
   ],
   "source": [
    "suspects =  data_copy.loc[data_copy.loc[data_copy[\"ccf\"] < 0].index, [\"funded_amnt\", \"total_rec_prncp\"]]\n",
    "suspects.describe()"
   ]
  },
  {
   "cell_type": "code",
   "execution_count": 14,
   "metadata": {},
   "outputs": [
    {
     "data": {
      "image/png": "[encoded data removed]",
      "text/plain": [
       "<Figure size 640x480 with 1 Axes>"
      ]
     },
     "metadata": {},
     "output_type": "display_data"
    }
   ],
   "source": [
    "# Create a distribution plot for each distribution\n",
    "\n",
    "sns.histplot(data=suspects, x='funded_amnt', bins=30, kde=True, label='Funded amount', color='blue')\n",
    "sns.histplot(data=suspects, x='total_rec_prncp', bins=30, kde=True, label='total recovered principle', color='orange')\n",
    "\n",
    "# sns.kdeplot(suspects[\"total_rec_prncp\"], label='total recovered principle', color='orange')\n",
    "\n",
    "# Add labels and title\n",
    "plt.ylabel('frequency')\n",
    "plt.xlabel('Amount')\n",
    "plt.title('Funded Amount vs Total Rec')\n",
    "\n",
    "# Add a legend\n",
    "plt.legend()\n",
    "\n",
    "# Show the plot\n",
    "plt.show()"
   ]
  },
  {
   "cell_type": "code",
   "execution_count": 15,
   "metadata": {},
   "outputs": [],
   "source": [
    "data_copy[\"ccf\"] = np.where(data_copy[\"ccf\"]  < 0, 0, data_copy[\"ccf\"])"
   ]
  },
  {
   "cell_type": "code",
   "execution_count": 16,
   "metadata": {},
   "outputs": [
    {
     "data": {
      "text/plain": [
       "count    466285.000000\n",
       "mean          0.344844\n",
       "std           0.327627\n",
       "min           0.000000\n",
       "25%           0.000000\n",
       "50%           0.347625\n",
       "75%           0.643997\n",
       "max           1.000000\n",
       "Name: ccf, dtype: float64"
      ]
     },
     "execution_count": 16,
     "metadata": {},
     "output_type": "execute_result"
    }
   ],
   "source": [
    "data_copy[\"ccf\"].describe()"
   ]
  },
  {
   "cell_type": "code",
   "execution_count": 17,
   "metadata": {},
   "outputs": [
    {
     "data": {
      "image/png": "[encoded data removed]",
      "text/plain": [
       "<Figure size 640x480 with 1 Axes>"
      ]
     },
     "metadata": {},
     "output_type": "display_data"
    }
   ],
   "source": [
    "plt.hist(data_copy[\"ccf\"], bins=100)     \n",
    "plt.title(\"credit conversion factor\")\n",
    "plt.grid(True)\n",
    "plt.xlabel(\"CCF\")\n",
    "plt.xticks(rotation=90)\n",
    "plt.ylabel(\"count\")\n",
    "plt.show()\n"
   ]
  },
  {
   "cell_type": "markdown",
   "metadata": {},
   "source": [
    "We can use logistic regression at first to predict if the recovery rate is zero or not, and then use linear regression to predicrt precise % of recovery rates, if the rate is not zero."
   ]
  },
  {
   "cell_type": "code",
   "execution_count": 18,
   "metadata": {},
   "outputs": [
    {
     "data": {
      "text/plain": [
       "0    1\n",
       "1    0\n",
       "2    0\n",
       "3    1\n",
       "4    1\n",
       "Name: recovery_rate_0_1, dtype: int64"
      ]
     },
     "execution_count": 18,
     "metadata": {},
     "output_type": "execute_result"
    }
   ],
   "source": [
    "data_copy[\"recovery_rate_0_1\"] = np.where(data_copy[\"recovery_rate\"] == 0, 0, 1)\n",
    "data_copy[\"recovery_rate_0_1\"].head()"
   ]
  },
  {
   "cell_type": "code",
   "execution_count": 19,
   "metadata": {},
   "outputs": [
    {
     "data": {
      "image/png": "[encoded data removed]",
      "text/plain": [
       "<Figure size 640x480 with 1 Axes>"
      ]
     },
     "metadata": {},
     "output_type": "display_data"
    }
   ],
   "source": [
    "# Calculate percentages\n",
    "percentages = [(count / data_copy.shape[0]) * 100 for count in data_copy[\"recovery_rate_0_1\"].value_counts()]\n",
    "\n",
    "# Plot the bar chart\n",
    "fig, ax = plt.subplots()\n",
    "bars = ax.bar(data_copy[\"recovery_rate_0_1\"].value_counts().index, data_copy[\"recovery_rate_0_1\"].value_counts(), color='orange')\n",
    "\n",
    "# Add percentages to the bars\n",
    "for bar, percentage in zip(bars, percentages):\n",
    "    height = bar.get_height()\n",
    "    ax.text(bar.get_x() + bar.get_width() / 2, height, f'{percentage:.1f}%', ha='center', va='bottom')\n",
    "\n",
    "plt.title(\"Adjusted Recovery Rate Bar chart\")\n",
    "plt.xlabel(\"Class\")\n",
    "plt.ylabel(\"Frequency\")\n",
    "plt.show()\n"
   ]
  },
  {
   "cell_type": "markdown",
   "metadata": {},
   "source": [
    "This will make our learning completley biased towards the negative class."
   ]
  },
  {
   "cell_type": "code",
   "execution_count": 20,
   "metadata": {},
   "outputs": [],
   "source": [
    "features_all = [\n",
    "    'grade:A',\n",
    "    'grade:B',\n",
    "    'grade:C',\n",
    "    'grade:D',\n",
    "    'grade:E',\n",
    "    'grade:F',\n",
    "    'grade:G',\n",
    "    'home_ownership:MORTGAGE',\n",
    "    'home_ownership:NONE',\n",
    "    'home_ownership:OTHER',\n",
    "    'home_ownership:OWN',\n",
    "    'home_ownership:RENT',\n",
    "    'verification_status:Not Verified',\n",
    "    'verification_status:Source Verified',\n",
    "    'verification_status:Verified',\n",
    "    'purpose:car',\n",
    "    'purpose:credit_card',\n",
    "    'purpose:debt_consolidation',\n",
    "    'purpose:educational',\n",
    "    'purpose:home_improvement',\n",
    "    'purpose:house',\n",
    "    'purpose:major_purchase',\n",
    "    'purpose:medical',\n",
    "    'purpose:moving',\n",
    "    'purpose:other',\n",
    "    'purpose:renewable_energy',\n",
    "    'purpose:small_business',\n",
    "    'purpose:vacation',\n",
    "    'purpose:wedding',\n",
    "    'initial_list_status:f',\n",
    "    'initial_list_status:w',\n",
    "    'term',\n",
    "    'emp_length',\n",
    "    'months_since_issued_date',\n",
    "    'months_since_earliest_cr_line',\n",
    "    'funded_amnt',\n",
    "    'int_rate',\n",
    "    'installment',\n",
    "    'annual_inc',\n",
    "    'dti',\n",
    "    'delinq_2yrs',\n",
    "    'inq_last_6mths',\n",
    "    'mths_since_last_delinq',\n",
    "    'mths_since_last_record',\n",
    "    'open_acc',\n",
    "    'pub_rec',\n",
    "    'total_acc',\n",
    "    'acc_now_delinq',\n",
    "    'total_rev_hi_lim'\n",
    "]\n",
    "\n",
    "ref_category_list = [\"grade:G\", \"verification_status:Verified\", \"purpose:credit_card\",  \"initial_list_status:f\"]"
   ]
  },
  {
   "cell_type": "code",
   "execution_count": 21,
   "metadata": {},
   "outputs": [
    {
     "name": "stdout",
     "output_type": "stream",
     "text": [
      "[Train]: x:(373028, 298), y:(373028,),  [Test]: x:(93257, 298), y: (93257,)\n"
     ]
    }
   ],
   "source": [
    "x_train, x_test, y_train, y_test = train_test_split(data_copy.drop([\"good_bad\", \"recovery_rate\", \"recovery_rate_0_1\", \"ccf\"], axis=1), data_copy[\"recovery_rate_0_1\"], test_size=0.2, random_state=45)\n",
    "print(f\"[Train]: x:{x_train.shape}, y:{y_train.shape},  [Test]: x:{x_test.shape}, y: {y_test.shape}\")"
   ]
  },
  {
   "cell_type": "markdown",
   "metadata": {},
   "source": [
    "Filtering the input "
   ]
  },
  {
   "cell_type": "code",
   "execution_count": 22,
   "metadata": {},
   "outputs": [
    {
     "name": "stdout",
     "output_type": "stream",
     "text": [
      "final train data shape: (373028, 45)\n"
     ]
    }
   ],
   "source": [
    "filtered_x_train = x_train[features_all]\n",
    "filtered_x_train = filtered_x_train.drop(ref_category_list, axis=1)\n",
    "\n",
    "print(f\"final train data shape: {filtered_x_train.shape}\")"
   ]
  },
  {
   "cell_type": "code",
   "execution_count": 23,
   "metadata": {},
   "outputs": [
    {
     "name": "stdout",
     "output_type": "stream",
     "text": [
      "final test data shape: (93257, 45)\n"
     ]
    }
   ],
   "source": [
    "filtered_x_test = x_test[features_all]\n",
    "filtered_x_test = filtered_x_test.drop(ref_category_list, axis=1)\n",
    "\n",
    "print(f\"final test data shape: {filtered_x_test.shape}\")"
   ]
  },
  {
   "cell_type": "code",
   "execution_count": 24,
   "metadata": {},
   "outputs": [
    {
     "data": {
      "text/plain": [
       "array(['grade:A', 'grade:B', 'grade:C', 'grade:D', 'grade:E', 'grade:F',\n",
       "       'home_ownership:MORTGAGE', 'home_ownership:NONE',\n",
       "       'home_ownership:OTHER', 'home_ownership:OWN',\n",
       "       'home_ownership:RENT', 'verification_status:Not Verified',\n",
       "       'verification_status:Source Verified', 'purpose:car',\n",
       "       'purpose:debt_consolidation', 'purpose:educational',\n",
       "       'purpose:home_improvement', 'purpose:house',\n",
       "       'purpose:major_purchase', 'purpose:medical', 'purpose:moving',\n",
       "       'purpose:other', 'purpose:renewable_energy',\n",
       "       'purpose:small_business', 'purpose:vacation', 'purpose:wedding',\n",
       "       'initial_list_status:w', 'term', 'emp_length',\n",
       "       'months_since_issued_date', 'months_since_earliest_cr_line',\n",
       "       'funded_amnt', 'int_rate', 'installment', 'annual_inc', 'dti',\n",
       "       'delinq_2yrs', 'inq_last_6mths', 'mths_since_last_delinq',\n",
       "       'mths_since_last_record', 'open_acc', 'pub_rec', 'total_acc',\n",
       "       'acc_now_delinq', 'total_rev_hi_lim'], dtype=object)"
      ]
     },
     "execution_count": 24,
     "metadata": {},
     "output_type": "execute_result"
    }
   ],
   "source": [
    "filtered_x_train.columns.values"
   ]
  },
  {
   "cell_type": "code",
   "execution_count": null,
   "metadata": {},
   "outputs": [],
   "source": []
  },
  {
   "cell_type": "code",
   "execution_count": 25,
   "metadata": {},
   "outputs": [],
   "source": [
    "lgd_model = LogisticRegressionWrapper(solver=\"liblinear\")\n",
    "lgd_model.fit(filtered_x_train, y_train)\n",
    "lgd_model.feature_names = filtered_x_train.columns.values"
   ]
  },
  {
   "cell_type": "code",
   "execution_count": 26,
   "metadata": {},
   "outputs": [
    {
     "data": {
      "text/html": [
       "<div>\n",
       "<style scoped>\n",
       "    .dataframe tbody tr th:only-of-type {\n",
       "        vertical-align: middle;\n",
       "    }\n",
       "\n",
       "    .dataframe tbody tr th {\n",
       "        vertical-align: top;\n",
       "    }\n",
       "\n",
       "    .dataframe thead th {\n",
       "        text-align: right;\n",
       "    }\n",
       "</style>\n",
       "<table border=\"1\" class=\"dataframe\">\n",
       "  <thead>\n",
       "    <tr style=\"text-align: right;\">\n",
       "      <th></th>\n",
       "      <th>feature</th>\n",
       "      <th>coefficients</th>\n",
       "      <th>z_score</th>\n",
       "      <th>p_value</th>\n",
       "    </tr>\n",
       "  </thead>\n",
       "  <tbody>\n",
       "    <tr>\n",
       "      <th>0</th>\n",
       "      <td>intercept</td>\n",
       "      <td>-0.001046</td>\n",
       "      <td>NaN</td>\n",
       "      <td>NaN</td>\n",
       "    </tr>\n",
       "    <tr>\n",
       "      <th>1</th>\n",
       "      <td>grade:A</td>\n",
       "      <td>-0.001150</td>\n",
       "      <td>-0.008742</td>\n",
       "      <td>9.930249e-01</td>\n",
       "    </tr>\n",
       "    <tr>\n",
       "      <th>2</th>\n",
       "      <td>grade:B</td>\n",
       "      <td>-0.001314</td>\n",
       "      <td>-0.011439</td>\n",
       "      <td>9.908731e-01</td>\n",
       "    </tr>\n",
       "    <tr>\n",
       "      <th>3</th>\n",
       "      <td>grade:C</td>\n",
       "      <td>-0.000453</td>\n",
       "      <td>-0.004362</td>\n",
       "      <td>9.965195e-01</td>\n",
       "    </tr>\n",
       "    <tr>\n",
       "      <th>4</th>\n",
       "      <td>grade:D</td>\n",
       "      <td>0.000500</td>\n",
       "      <td>0.005224</td>\n",
       "      <td>9.958322e-01</td>\n",
       "    </tr>\n",
       "    <tr>\n",
       "      <th>5</th>\n",
       "      <td>grade:E</td>\n",
       "      <td>0.000677</td>\n",
       "      <td>0.007423</td>\n",
       "      <td>9.940773e-01</td>\n",
       "    </tr>\n",
       "    <tr>\n",
       "      <th>6</th>\n",
       "      <td>grade:F</td>\n",
       "      <td>0.000532</td>\n",
       "      <td>0.005697</td>\n",
       "      <td>9.954547e-01</td>\n",
       "    </tr>\n",
       "    <tr>\n",
       "      <th>7</th>\n",
       "      <td>home_ownership:MORTGAGE</td>\n",
       "      <td>-0.000444</td>\n",
       "      <td>-0.002196</td>\n",
       "      <td>9.982475e-01</td>\n",
       "    </tr>\n",
       "    <tr>\n",
       "      <th>8</th>\n",
       "      <td>home_ownership:NONE</td>\n",
       "      <td>0.000003</td>\n",
       "      <td>0.000004</td>\n",
       "      <td>9.999971e-01</td>\n",
       "    </tr>\n",
       "    <tr>\n",
       "      <th>9</th>\n",
       "      <td>home_ownership:OTHER</td>\n",
       "      <td>0.000011</td>\n",
       "      <td>0.000026</td>\n",
       "      <td>9.999796e-01</td>\n",
       "    </tr>\n",
       "    <tr>\n",
       "      <th>10</th>\n",
       "      <td>home_ownership:OWN</td>\n",
       "      <td>-0.000096</td>\n",
       "      <td>-0.000475</td>\n",
       "      <td>9.996211e-01</td>\n",
       "    </tr>\n",
       "    <tr>\n",
       "      <th>11</th>\n",
       "      <td>home_ownership:RENT</td>\n",
       "      <td>-0.000519</td>\n",
       "      <td>-0.002581</td>\n",
       "      <td>9.979407e-01</td>\n",
       "    </tr>\n",
       "    <tr>\n",
       "      <th>12</th>\n",
       "      <td>verification_status:Not Verified</td>\n",
       "      <td>-0.001108</td>\n",
       "      <td>-0.056649</td>\n",
       "      <td>9.548251e-01</td>\n",
       "    </tr>\n",
       "    <tr>\n",
       "      <th>13</th>\n",
       "      <td>verification_status:Source Verified</td>\n",
       "      <td>-0.001002</td>\n",
       "      <td>-0.054808</td>\n",
       "      <td>9.562918e-01</td>\n",
       "    </tr>\n",
       "    <tr>\n",
       "      <th>14</th>\n",
       "      <td>purpose:car</td>\n",
       "      <td>-0.000004</td>\n",
       "      <td>-0.000060</td>\n",
       "      <td>9.999521e-01</td>\n",
       "    </tr>\n",
       "    <tr>\n",
       "      <th>15</th>\n",
       "      <td>purpose:debt_consolidation</td>\n",
       "      <td>-0.000635</td>\n",
       "      <td>-0.034649</td>\n",
       "      <td>9.723593e-01</td>\n",
       "    </tr>\n",
       "    <tr>\n",
       "      <th>16</th>\n",
       "      <td>purpose:educational</td>\n",
       "      <td>0.000016</td>\n",
       "      <td>0.000070</td>\n",
       "      <td>9.999438e-01</td>\n",
       "    </tr>\n",
       "    <tr>\n",
       "      <th>17</th>\n",
       "      <td>purpose:home_improvement</td>\n",
       "      <td>-0.000017</td>\n",
       "      <td>-0.000465</td>\n",
       "      <td>9.996286e-01</td>\n",
       "    </tr>\n",
       "    <tr>\n",
       "      <th>18</th>\n",
       "      <td>purpose:house</td>\n",
       "      <td>0.000033</td>\n",
       "      <td>0.000335</td>\n",
       "      <td>9.997323e-01</td>\n",
       "    </tr>\n",
       "    <tr>\n",
       "      <th>19</th>\n",
       "      <td>purpose:major_purchase</td>\n",
       "      <td>-0.000019</td>\n",
       "      <td>-0.000370</td>\n",
       "      <td>9.997050e-01</td>\n",
       "    </tr>\n",
       "    <tr>\n",
       "      <th>20</th>\n",
       "      <td>purpose:medical</td>\n",
       "      <td>0.000034</td>\n",
       "      <td>0.000446</td>\n",
       "      <td>9.996445e-01</td>\n",
       "    </tr>\n",
       "    <tr>\n",
       "      <th>21</th>\n",
       "      <td>purpose:moving</td>\n",
       "      <td>0.000030</td>\n",
       "      <td>0.000345</td>\n",
       "      <td>9.997248e-01</td>\n",
       "    </tr>\n",
       "    <tr>\n",
       "      <th>22</th>\n",
       "      <td>purpose:other</td>\n",
       "      <td>0.000201</td>\n",
       "      <td>0.005577</td>\n",
       "      <td>9.955502e-01</td>\n",
       "    </tr>\n",
       "    <tr>\n",
       "      <th>23</th>\n",
       "      <td>purpose:renewable_energy</td>\n",
       "      <td>0.000010</td>\n",
       "      <td>0.000038</td>\n",
       "      <td>9.999696e-01</td>\n",
       "    </tr>\n",
       "    <tr>\n",
       "      <th>24</th>\n",
       "      <td>purpose:small_business</td>\n",
       "      <td>0.000317</td>\n",
       "      <td>0.005189</td>\n",
       "      <td>9.958596e-01</td>\n",
       "    </tr>\n",
       "    <tr>\n",
       "      <th>25</th>\n",
       "      <td>purpose:vacation</td>\n",
       "      <td>0.000003</td>\n",
       "      <td>0.000035</td>\n",
       "      <td>9.999723e-01</td>\n",
       "    </tr>\n",
       "    <tr>\n",
       "      <th>26</th>\n",
       "      <td>purpose:wedding</td>\n",
       "      <td>0.000030</td>\n",
       "      <td>0.000303</td>\n",
       "      <td>9.997581e-01</td>\n",
       "    </tr>\n",
       "    <tr>\n",
       "      <th>27</th>\n",
       "      <td>initial_list_status:w</td>\n",
       "      <td>-0.002862</td>\n",
       "      <td>-0.172888</td>\n",
       "      <td>8.627395e-01</td>\n",
       "    </tr>\n",
       "    <tr>\n",
       "      <th>28</th>\n",
       "      <td>term</td>\n",
       "      <td>-0.013625</td>\n",
       "      <td>-7.209244</td>\n",
       "      <td>5.626349e-13</td>\n",
       "    </tr>\n",
       "    <tr>\n",
       "      <th>29</th>\n",
       "      <td>emp_length</td>\n",
       "      <td>-0.004131</td>\n",
       "      <td>-1.964652</td>\n",
       "      <td>4.945455e-02</td>\n",
       "    </tr>\n",
       "    <tr>\n",
       "      <th>30</th>\n",
       "      <td>months_since_issued_date</td>\n",
       "      <td>-0.005488</td>\n",
       "      <td>-9.929872</td>\n",
       "      <td>3.086504e-23</td>\n",
       "    </tr>\n",
       "    <tr>\n",
       "      <th>31</th>\n",
       "      <td>months_since_earliest_cr_line</td>\n",
       "      <td>-0.002420</td>\n",
       "      <td>-24.417429</td>\n",
       "      <td>1.116800e-131</td>\n",
       "    </tr>\n",
       "    <tr>\n",
       "      <th>32</th>\n",
       "      <td>funded_amnt</td>\n",
       "      <td>0.000078</td>\n",
       "      <td>10.739600</td>\n",
       "      <td>6.633135e-27</td>\n",
       "    </tr>\n",
       "    <tr>\n",
       "      <th>33</th>\n",
       "      <td>int_rate</td>\n",
       "      <td>0.011244</td>\n",
       "      <td>1.918773</td>\n",
       "      <td>5.501311e-02</td>\n",
       "    </tr>\n",
       "    <tr>\n",
       "      <th>34</th>\n",
       "      <td>installment</td>\n",
       "      <td>-0.001471</td>\n",
       "      <td>-6.479809</td>\n",
       "      <td>9.183907e-11</td>\n",
       "    </tr>\n",
       "    <tr>\n",
       "      <th>35</th>\n",
       "      <td>annual_inc</td>\n",
       "      <td>-0.000008</td>\n",
       "      <td>-25.612014</td>\n",
       "      <td>1.121027e-144</td>\n",
       "    </tr>\n",
       "    <tr>\n",
       "      <th>36</th>\n",
       "      <td>dti</td>\n",
       "      <td>-0.011837</td>\n",
       "      <td>-11.169615</td>\n",
       "      <td>5.742894e-29</td>\n",
       "    </tr>\n",
       "    <tr>\n",
       "      <th>37</th>\n",
       "      <td>delinq_2yrs</td>\n",
       "      <td>-0.000263</td>\n",
       "      <td>-0.027026</td>\n",
       "      <td>9.784389e-01</td>\n",
       "    </tr>\n",
       "    <tr>\n",
       "      <th>38</th>\n",
       "      <td>inq_last_6mths</td>\n",
       "      <td>0.003683</td>\n",
       "      <td>0.512921</td>\n",
       "      <td>6.080069e-01</td>\n",
       "    </tr>\n",
       "    <tr>\n",
       "      <th>39</th>\n",
       "      <td>mths_since_last_delinq</td>\n",
       "      <td>-0.002310</td>\n",
       "      <td>-6.693677</td>\n",
       "      <td>2.176310e-11</td>\n",
       "    </tr>\n",
       "    <tr>\n",
       "      <th>40</th>\n",
       "      <td>mths_since_last_record</td>\n",
       "      <td>-0.004906</td>\n",
       "      <td>-11.906722</td>\n",
       "      <td>1.091851e-32</td>\n",
       "    </tr>\n",
       "    <tr>\n",
       "      <th>41</th>\n",
       "      <td>open_acc</td>\n",
       "      <td>-0.003931</td>\n",
       "      <td>-1.712461</td>\n",
       "      <td>8.681168e-02</td>\n",
       "    </tr>\n",
       "    <tr>\n",
       "      <th>42</th>\n",
       "      <td>pub_rec</td>\n",
       "      <td>-0.000304</td>\n",
       "      <td>-0.014110</td>\n",
       "      <td>9.887419e-01</td>\n",
       "    </tr>\n",
       "    <tr>\n",
       "      <th>43</th>\n",
       "      <td>total_acc</td>\n",
       "      <td>-0.005262</td>\n",
       "      <td>-5.250796</td>\n",
       "      <td>1.514433e-07</td>\n",
       "    </tr>\n",
       "    <tr>\n",
       "      <th>44</th>\n",
       "      <td>acc_now_delinq</td>\n",
       "      <td>0.000004</td>\n",
       "      <td>0.000034</td>\n",
       "      <td>9.999732e-01</td>\n",
       "    </tr>\n",
       "    <tr>\n",
       "      <th>45</th>\n",
       "      <td>total_rev_hi_lim</td>\n",
       "      <td>-0.000017</td>\n",
       "      <td>-27.326110</td>\n",
       "      <td>2.076805e-164</td>\n",
       "    </tr>\n",
       "  </tbody>\n",
       "</table>\n",
       "</div>"
      ],
      "text/plain": [
       "                                feature  coefficients    z_score  \\\n",
       "0                             intercept     -0.001046        NaN   \n",
       "1                               grade:A     -0.001150  -0.008742   \n",
       "2                               grade:B     -0.001314  -0.011439   \n",
       "3                               grade:C     -0.000453  -0.004362   \n",
       "4                               grade:D      0.000500   0.005224   \n",
       "5                               grade:E      0.000677   0.007423   \n",
       "6                               grade:F      0.000532   0.005697   \n",
       "7               home_ownership:MORTGAGE     -0.000444  -0.002196   \n",
       "8                   home_ownership:NONE      0.000003   0.000004   \n",
       "9                  home_ownership:OTHER      0.000011   0.000026   \n",
       "10                   home_ownership:OWN     -0.000096  -0.000475   \n",
       "11                  home_ownership:RENT     -0.000519  -0.002581   \n",
       "12     verification_status:Not Verified     -0.001108  -0.056649   \n",
       "13  verification_status:Source Verified     -0.001002  -0.054808   \n",
       "14                          purpose:car     -0.000004  -0.000060   \n",
       "15           purpose:debt_consolidation     -0.000635  -0.034649   \n",
       "16                  purpose:educational      0.000016   0.000070   \n",
       "17             purpose:home_improvement     -0.000017  -0.000465   \n",
       "18                        purpose:house      0.000033   0.000335   \n",
       "19               purpose:major_purchase     -0.000019  -0.000370   \n",
       "20                      purpose:medical      0.000034   0.000446   \n",
       "21                       purpose:moving      0.000030   0.000345   \n",
       "22                        purpose:other      0.000201   0.005577   \n",
       "23             purpose:renewable_energy      0.000010   0.000038   \n",
       "24               purpose:small_business      0.000317   0.005189   \n",
       "25                     purpose:vacation      0.000003   0.000035   \n",
       "26                      purpose:wedding      0.000030   0.000303   \n",
       "27                initial_list_status:w     -0.002862  -0.172888   \n",
       "28                                 term     -0.013625  -7.209244   \n",
       "29                           emp_length     -0.004131  -1.964652   \n",
       "30             months_since_issued_date     -0.005488  -9.929872   \n",
       "31        months_since_earliest_cr_line     -0.002420 -24.417429   \n",
       "32                          funded_amnt      0.000078  10.739600   \n",
       "33                             int_rate      0.011244   1.918773   \n",
       "34                          installment     -0.001471  -6.479809   \n",
       "35                           annual_inc     -0.000008 -25.612014   \n",
       "36                                  dti     -0.011837 -11.169615   \n",
       "37                          delinq_2yrs     -0.000263  -0.027026   \n",
       "38                       inq_last_6mths      0.003683   0.512921   \n",
       "39               mths_since_last_delinq     -0.002310  -6.693677   \n",
       "40               mths_since_last_record     -0.004906 -11.906722   \n",
       "41                             open_acc     -0.003931  -1.712461   \n",
       "42                              pub_rec     -0.000304  -0.014110   \n",
       "43                            total_acc     -0.005262  -5.250796   \n",
       "44                       acc_now_delinq      0.000004   0.000034   \n",
       "45                     total_rev_hi_lim     -0.000017 -27.326110   \n",
       "\n",
       "          p_value  \n",
       "0             NaN  \n",
       "1    9.930249e-01  \n",
       "2    9.908731e-01  \n",
       "3    9.965195e-01  \n",
       "4    9.958322e-01  \n",
       "5    9.940773e-01  \n",
       "6    9.954547e-01  \n",
       "7    9.982475e-01  \n",
       "8    9.999971e-01  \n",
       "9    9.999796e-01  \n",
       "10   9.996211e-01  \n",
       "11   9.979407e-01  \n",
       "12   9.548251e-01  \n",
       "13   9.562918e-01  \n",
       "14   9.999521e-01  \n",
       "15   9.723593e-01  \n",
       "16   9.999438e-01  \n",
       "17   9.996286e-01  \n",
       "18   9.997323e-01  \n",
       "19   9.997050e-01  \n",
       "20   9.996445e-01  \n",
       "21   9.997248e-01  \n",
       "22   9.955502e-01  \n",
       "23   9.999696e-01  \n",
       "24   9.958596e-01  \n",
       "25   9.999723e-01  \n",
       "26   9.997581e-01  \n",
       "27   8.627395e-01  \n",
       "28   5.626349e-13  \n",
       "29   4.945455e-02  \n",
       "30   3.086504e-23  \n",
       "31  1.116800e-131  \n",
       "32   6.633135e-27  \n",
       "33   5.501311e-02  \n",
       "34   9.183907e-11  \n",
       "35  1.121027e-144  \n",
       "36   5.742894e-29  \n",
       "37   9.784389e-01  \n",
       "38   6.080069e-01  \n",
       "39   2.176310e-11  \n",
       "40   1.091851e-32  \n",
       "41   8.681168e-02  \n",
       "42   9.887419e-01  \n",
       "43   1.514433e-07  \n",
       "44   9.999732e-01  \n",
       "45  2.076805e-164  "
      ]
     },
     "execution_count": 26,
     "metadata": {},
     "output_type": "execute_result"
    }
   ],
   "source": [
    "summary = pd.DataFrame(columns=[\"feature\"], data=lgd_model.feature_names)\n",
    "summary[\"coefficients\"] = np.transpose(lgd_model.coef_)\n",
    "summary[\"z_score\"] = lgd_model.z_scores\n",
    "summary['p_value'] = lgd_model.p_values\n",
    "summary.index = summary.index + 1\n",
    "summary.loc[0] = [\"intercept\", lgd_model.intercept_[0], np.nan, np.nan]\n",
    "summary = summary.sort_index()\n",
    "summary"
   ]
  },
  {
   "cell_type": "code",
   "execution_count": 27,
   "metadata": {},
   "outputs": [
    {
     "data": {
      "text/plain": [
       "array([[0.98457752, 0.01542248],\n",
       "       [0.94626453, 0.05373547],\n",
       "       [0.94520807, 0.05479193],\n",
       "       ...,\n",
       "       [0.9249078 , 0.0750922 ],\n",
       "       [0.96301957, 0.03698043],\n",
       "       [0.96883451, 0.03116549]])"
      ]
     },
     "execution_count": 27,
     "metadata": {},
     "output_type": "execute_result"
    }
   ],
   "source": [
    "y_hat_probab = lgd_model.model.predict_proba(filtered_x_test)\n",
    "y_hat_probab"
   ]
  },
  {
   "cell_type": "code",
   "execution_count": 28,
   "metadata": {},
   "outputs": [
    {
     "data": {
      "text/plain": [
       "array([0.01542248, 0.05373547, 0.05479193, ..., 0.0750922 , 0.03698043,\n",
       "       0.03116549])"
      ]
     },
     "execution_count": 28,
     "metadata": {},
     "output_type": "execute_result"
    }
   ],
   "source": [
    "y_hat_probab = y_hat_probab[:][:, 1]\n",
    "y_hat_probab"
   ]
  },
  {
   "cell_type": "code",
   "execution_count": 29,
   "metadata": {},
   "outputs": [
    {
     "data": {
      "text/html": [
       "<div>\n",
       "<style scoped>\n",
       "    .dataframe tbody tr th:only-of-type {\n",
       "        vertical-align: middle;\n",
       "    }\n",
       "\n",
       "    .dataframe tbody tr th {\n",
       "        vertical-align: top;\n",
       "    }\n",
       "\n",
       "    .dataframe thead th {\n",
       "        text-align: right;\n",
       "    }\n",
       "</style>\n",
       "<table border=\"1\" class=\"dataframe\">\n",
       "  <thead>\n",
       "    <tr style=\"text-align: right;\">\n",
       "      <th></th>\n",
       "      <th>test_acual</th>\n",
       "      <th>test_probab</th>\n",
       "    </tr>\n",
       "  </thead>\n",
       "  <tbody>\n",
       "    <tr>\n",
       "      <th>47140</th>\n",
       "      <td>0</td>\n",
       "      <td>0.015422</td>\n",
       "    </tr>\n",
       "    <tr>\n",
       "      <th>307584</th>\n",
       "      <td>0</td>\n",
       "      <td>0.053735</td>\n",
       "    </tr>\n",
       "    <tr>\n",
       "      <th>209316</th>\n",
       "      <td>0</td>\n",
       "      <td>0.054792</td>\n",
       "    </tr>\n",
       "    <tr>\n",
       "      <th>116227</th>\n",
       "      <td>0</td>\n",
       "      <td>0.050156</td>\n",
       "    </tr>\n",
       "    <tr>\n",
       "      <th>272299</th>\n",
       "      <td>0</td>\n",
       "      <td>0.059893</td>\n",
       "    </tr>\n",
       "  </tbody>\n",
       "</table>\n",
       "</div>"
      ],
      "text/plain": [
       "        test_acual  test_probab\n",
       "47140            0     0.015422\n",
       "307584           0     0.053735\n",
       "209316           0     0.054792\n",
       "116227           0     0.050156\n",
       "272299           0     0.059893"
      ]
     },
     "execution_count": 29,
     "metadata": {},
     "output_type": "execute_result"
    }
   ],
   "source": [
    "temp_df = y_test.reset_index(drop=True)\n",
    "actual_vs_predicted = pd.concat([temp_df, pd.DataFrame(y_hat_probab)], axis=1)\n",
    "actual_vs_predicted.columns = [\"test_acual\", \"test_probab\"]\n",
    "actual_vs_predicted.index = y_test.index\n",
    "actual_vs_predicted.head()                             "
   ]
  },
  {
   "cell_type": "code",
   "execution_count": 30,
   "metadata": {},
   "outputs": [
    {
     "data": {
      "text/plain": [
       "array([[88327,     0],\n",
       "       [ 4930,     0]])"
      ]
     },
     "execution_count": 30,
     "metadata": {},
     "output_type": "execute_result"
    }
   ],
   "source": [
    "tr = 0.5\n",
    "actual_vs_predicted[\"y_hat\"] = np.where(actual_vs_predicted[\"test_probab\"] > tr, 1, 0)\n",
    "cm = confusion_matrix(actual_vs_predicted[\"test_acual\"], actual_vs_predicted[\"y_hat\"])\n",
    "cm\n"
   ]
  },
  {
   "cell_type": "code",
   "execution_count": 31,
   "metadata": {},
   "outputs": [
    {
     "data": {
      "image/png": "[encoded data removed]",
      "text/plain": [
       "<Figure size 800x600 with 2 Axes>"
      ]
     },
     "metadata": {},
     "output_type": "display_data"
    }
   ],
   "source": [
    "# Plot the confusion matrix using seaborn heatmap\n",
    "plt.figure(figsize=(8, 6))\n",
    "sns.heatmap(cm, annot=True, fmt=\"d\", cmap=\"viridis\")\n",
    "plt.title(\"Confusion Matrix\")\n",
    "plt.xlabel(\"Predicted\")\n",
    "plt.ylabel(\"True\")\n",
    "plt.show()"
   ]
  },
  {
   "cell_type": "markdown",
   "metadata": {},
   "source": [
    "The result is bizzare !! \n",
    "\n",
    "Lets create a model with balanced class training. We can use a following methods:\n",
    "- class weighting \n",
    "- Resampling techniques \n",
    "- Ensemble Methods \n",
    "- Cost sensitve function \n",
    "\n",
    "\n",
    "For a quick experiment, we will use class weighting method, and examine the result"
   ]
  },
  {
   "cell_type": "code",
   "execution_count": 32,
   "metadata": {},
   "outputs": [],
   "source": [
    "balanced_lgd_model = LogisticRegressionWrapper(solver=\"liblinear\", class_weight =\"balanced\")\n",
    "balanced_lgd_model.fit(filtered_x_train, y_train)\n",
    "balanced_lgd_model.feature_names = filtered_x_train.columns.values"
   ]
  },
  {
   "cell_type": "code",
   "execution_count": 33,
   "metadata": {},
   "outputs": [],
   "source": [
    "balanced_y_hat = balanced_lgd_model.model.predict(filtered_x_test)"
   ]
  },
  {
   "cell_type": "code",
   "execution_count": 34,
   "metadata": {},
   "outputs": [
    {
     "data": {
      "image/png": "[encoded data removed]",
      "text/plain": [
       "<Figure size 800x600 with 2 Axes>"
      ]
     },
     "metadata": {},
     "output_type": "display_data"
    }
   ],
   "source": [
    "cm = confusion_matrix(y_test, balanced_y_hat)\n",
    "# Plot the confusion matrix using seaborn heatmap\n",
    "plt.figure(figsize=(8, 6))\n",
    "sns.heatmap(cm, annot=True, fmt=\"d\", cmap=\"viridis\")\n",
    "plt.title(\"Confusion Matrix\")\n",
    "plt.xlabel(\"Predicted\")\n",
    "plt.ylabel(\"True\")\n",
    "plt.show()"
   ]
  },
  {
   "cell_type": "code",
   "execution_count": 35,
   "metadata": {},
   "outputs": [
    {
     "name": "stdout",
     "output_type": "stream",
     "text": [
      "              precision    recall  f1-score   support\n",
      "\n",
      "           0       0.98      0.68      0.80     88327\n",
      "           1       0.11      0.71      0.19      4930\n",
      "\n",
      "    accuracy                           0.68     93257\n",
      "   macro avg       0.54      0.69      0.49     93257\n",
      "weighted avg       0.93      0.68      0.77     93257\n",
      "\n"
     ]
    }
   ],
   "source": [
    "clf_report = classification_report(y_test, balanced_y_hat)\n",
    "print(clf_report)"
   ]
  },
  {
   "cell_type": "code",
   "execution_count": 36,
   "metadata": {},
   "outputs": [
    {
     "data": {
      "image/png": "[encoded data removed]",
      "text/plain": [
       "<Figure size 800x600 with 1 Axes>"
      ]
     },
     "metadata": {},
     "output_type": "display_data"
    }
   ],
   "source": [
    "fpr, tpr, thresholds = roc_curve(y_test, balanced_y_hat)\n",
    "roc_auc = auc(fpr, tpr)\n",
    "\n",
    "fig, ax = plt.subplots(figsize=(8, 6))\n",
    "\n",
    "# Set background color and alpha (transparency)\n",
    "ax.set_facecolor('lightgray')  # You can change 'lightgray' to any color you want\n",
    "ax.set_alpha(0.3)  # Adjust alpha for transparency\n",
    "\n",
    "\n",
    "ax.plot(fpr, tpr, color='darkorange', lw=2, label='ROC curve (area = {:.2f})'.format(roc_auc))\n",
    "ax.fill_between(fpr, 0, tpr, color='green', alpha=0.3)\n",
    "ax.plot([0, 1], [0, 1], color='navy', lw=2, linestyle='--', label='Random')\n",
    "ax.set_xlabel('False Positive Rate')\n",
    "ax.set_ylabel('True Positive Rate')\n",
    "ax.set_title('Receiver Operating Characteristic (ROC) Curve')\n",
    "ax.legend(loc='lower right')\n",
    "plt.show()"
   ]
  },
  {
   "cell_type": "code",
   "execution_count": 37,
   "metadata": {},
   "outputs": [
    {
     "data": {
      "text/plain": [
       "['./models/balanced_lgd_zero.joblib']"
      ]
     },
     "execution_count": 37,
     "metadata": {},
     "output_type": "execute_result"
    }
   ],
   "source": [
    "# saving the model => we can agree on this model's performance. We will build btter model in _one.\n",
    "dump(balanced_lgd_model, f\"{model_path}balanced_lgd_zero.joblib\")"
   ]
  },
  {
   "cell_type": "markdown",
   "metadata": {},
   "source": [
    "#### Linear Regression \n",
    "This will predict the recovery rate which is not equal to zero."
   ]
  },
  {
   "cell_type": "code",
   "execution_count": 38,
   "metadata": {},
   "outputs": [
    {
     "data": {
      "text/plain": [
       "(24371, 302)"
      ]
     },
     "execution_count": 38,
     "metadata": {},
     "output_type": "execute_result"
    }
   ],
   "source": [
    "lr_data_copy = data_copy[data_copy[\"recovery_rate_0_1\"] == 1]\n",
    "lr_data_copy.shape"
   ]
  },
  {
   "cell_type": "code",
   "execution_count": 39,
   "metadata": {},
   "outputs": [
    {
     "name": "stdout",
     "output_type": "stream",
     "text": [
      "[Train]: x:(19496, 298), y:(19496,),  [Test]: x:(4875, 298), y: (4875,)\n"
     ]
    }
   ],
   "source": [
    "x_train_lr, x_test_lr, y_train_lr, y_test_lr = train_test_split(lr_data_copy.drop([\"good_bad\", \"recovery_rate\", \"recovery_rate_0_1\", \"ccf\"], axis=1), lr_data_copy[\"recovery_rate\"], test_size=0.2, random_state=45)\n",
    "print(f\"[Train]: x:{x_train_lr.shape}, y:{y_train_lr.shape},  [Test]: x:{x_test_lr.shape}, y: {y_test_lr.shape}\")"
   ]
  },
  {
   "cell_type": "code",
   "execution_count": 40,
   "metadata": {},
   "outputs": [
    {
     "name": "stdout",
     "output_type": "stream",
     "text": [
      "final train data shape: (19496, 45)\n"
     ]
    }
   ],
   "source": [
    "filtered_x_train_lr = x_train_lr[features_all]\n",
    "filtered_x_train_lr = filtered_x_train_lr.drop(ref_category_list, axis=1)\n",
    "\n",
    "\n",
    "filtered_x_test_lr = x_test_lr[features_all]\n",
    "filtered_x_test_lr = filtered_x_test_lr.drop(ref_category_list, axis=1)\n",
    "\n",
    "print(f\"final train data shape: {filtered_x_train_lr.shape}\")"
   ]
  },
  {
   "cell_type": "code",
   "execution_count": 41,
   "metadata": {},
   "outputs": [
    {
     "data": {
      "text/html": [
       "<style>#sk-container-id-1 {color: black;}#sk-container-id-1 pre{padding: 0;}#sk-container-id-1 div.sk-toggleable {background-color: white;}#sk-container-id-1 label.sk-toggleable__label {cursor: pointer;display: block;width: 100%;margin-bottom: 0;padding: 0.3em;box-sizing: border-box;text-align: center;}#sk-container-id-1 label.sk-toggleable__label-arrow:before {content: \"▸\";float: left;margin-right: 0.25em;color: #696969;}#sk-container-id-1 label.sk-toggleable__label-arrow:hover:before {color: black;}#sk-container-id-1 div.sk-estimator:hover label.sk-toggleable__label-arrow:before {color: black;}#sk-container-id-1 div.sk-toggleable__content {max-height: 0;max-width: 0;overflow: hidden;text-align: left;background-color: #f0f8ff;}#sk-container-id-1 div.sk-toggleable__content pre {margin: 0.2em;color: black;border-radius: 0.25em;background-color: #f0f8ff;}#sk-container-id-1 input.sk-toggleable__control:checked~div.sk-toggleable__content {max-height: 200px;max-width: 100%;overflow: auto;}#sk-container-id-1 input.sk-toggleable__control:checked~label.sk-toggleable__label-arrow:before {content: \"▾\";}#sk-container-id-1 div.sk-estimator input.sk-toggleable__control:checked~label.sk-toggleable__label {background-color: #d4ebff;}#sk-container-id-1 div.sk-label input.sk-toggleable__control:checked~label.sk-toggleable__label {background-color: #d4ebff;}#sk-container-id-1 input.sk-hidden--visually {border: 0;clip: rect(1px 1px 1px 1px);clip: rect(1px, 1px, 1px, 1px);height: 1px;margin: -1px;overflow: hidden;padding: 0;position: absolute;width: 1px;}#sk-container-id-1 div.sk-estimator {font-family: monospace;background-color: #f0f8ff;border: 1px dotted black;border-radius: 0.25em;box-sizing: border-box;margin-bottom: 0.5em;}#sk-container-id-1 div.sk-estimator:hover {background-color: #d4ebff;}#sk-container-id-1 div.sk-parallel-item::after {content: \"\";width: 100%;border-bottom: 1px solid gray;flex-grow: 1;}#sk-container-id-1 div.sk-label:hover label.sk-toggleable__label {background-color: #d4ebff;}#sk-container-id-1 div.sk-serial::before {content: \"\";position: absolute;border-left: 1px solid gray;box-sizing: border-box;top: 0;bottom: 0;left: 50%;z-index: 0;}#sk-container-id-1 div.sk-serial {display: flex;flex-direction: column;align-items: center;background-color: white;padding-right: 0.2em;padding-left: 0.2em;position: relative;}#sk-container-id-1 div.sk-item {position: relative;z-index: 1;}#sk-container-id-1 div.sk-parallel {display: flex;align-items: stretch;justify-content: center;background-color: white;position: relative;}#sk-container-id-1 div.sk-item::before, #sk-container-id-1 div.sk-parallel-item::before {content: \"\";position: absolute;border-left: 1px solid gray;box-sizing: border-box;top: 0;bottom: 0;left: 50%;z-index: -1;}#sk-container-id-1 div.sk-parallel-item {display: flex;flex-direction: column;z-index: 1;position: relative;background-color: white;}#sk-container-id-1 div.sk-parallel-item:first-child::after {align-self: flex-end;width: 50%;}#sk-container-id-1 div.sk-parallel-item:last-child::after {align-self: flex-start;width: 50%;}#sk-container-id-1 div.sk-parallel-item:only-child::after {width: 0;}#sk-container-id-1 div.sk-dashed-wrapped {border: 1px dashed gray;margin: 0 0.4em 0.5em 0.4em;box-sizing: border-box;padding-bottom: 0.4em;background-color: white;}#sk-container-id-1 div.sk-label label {font-family: monospace;font-weight: bold;display: inline-block;line-height: 1.2em;}#sk-container-id-1 div.sk-label-container {text-align: center;}#sk-container-id-1 div.sk-container {/* jupyter's `normalize.less` sets `[hidden] { display: none; }` but bootstrap.min.css set `[hidden] { display: none !important; }` so we also need the `!important` here to be able to override the default hidden behavior on the sphinx rendered scikit-learn.org. See: https://github.com/scikit-learn/scikit-learn/issues/21755 */display: inline-block !important;position: relative;}#sk-container-id-1 div.sk-text-repr-fallback {display: none;}</style><div id=\"sk-container-id-1\" class=\"sk-top-container\"><div class=\"sk-text-repr-fallback\"><pre>LinearRegressionWrapper()</pre><b>In a Jupyter environment, please rerun this cell to show the HTML representation or trust the notebook. <br />On GitHub, the HTML representation is unable to render, please try loading this page with nbviewer.org.</b></div><div class=\"sk-container\" hidden><div class=\"sk-item\"><div class=\"sk-estimator sk-toggleable\"><input class=\"sk-toggleable__control sk-hidden--visually\" id=\"sk-estimator-id-1\" type=\"checkbox\" checked><label for=\"sk-estimator-id-1\" class=\"sk-toggleable__label sk-toggleable__label-arrow\">LinearRegressionWrapper</label><div class=\"sk-toggleable__content\"><pre>LinearRegressionWrapper()</pre></div></div></div></div></div>"
      ],
      "text/plain": [
       "LinearRegressionWrapper()"
      ]
     },
     "execution_count": 41,
     "metadata": {},
     "output_type": "execute_result"
    }
   ],
   "source": [
    "lgd_lr_model = LinearRegressionWrapper()\n",
    "lgd_lr_model.fit(filtered_x_train_lr, y_train_lr)"
   ]
  },
  {
   "cell_type": "markdown",
   "metadata": {},
   "source": [
    "Evaluation"
   ]
  },
  {
   "cell_type": "code",
   "execution_count": 42,
   "metadata": {},
   "outputs": [],
   "source": [
    "y_hat_lr = lgd_lr_model.predict(filtered_x_test_lr)"
   ]
  },
  {
   "cell_type": "code",
   "execution_count": 43,
   "metadata": {},
   "outputs": [
    {
     "name": "stdout",
     "output_type": "stream",
     "text": [
      "MAE: 0.04457435827501758\n"
     ]
    }
   ],
   "source": [
    "mae = mean_absolute_error(y_test_lr, y_hat_lr)\n",
    "print(f\"MAE: {mae}\")"
   ]
  },
  {
   "cell_type": "code",
   "execution_count": 44,
   "metadata": {},
   "outputs": [
    {
     "data": {
      "text/plain": [
       "<Figure size 800x600 with 0 Axes>"
      ]
     },
     "metadata": {},
     "output_type": "display_data"
    },
    {
     "data": {
      "image/png": "[encoded data removed]",
      "text/plain": [
       "<Figure size 640x480 with 1 Axes>"
      ]
     },
     "metadata": {},
     "output_type": "display_data"
    }
   ],
   "source": [
    "plt.figure(figsize=(8, 6))\n",
    "sm.qqplot(y_test_lr - y_hat_lr, line='s')\n",
    "# Set plot labels and title\n",
    "plt.title('QQ Plot of Residuals')\n",
    "plt.xlabel('Theoretical Quantile')\n",
    "# Show the plot\n",
    "plt.show()"
   ]
  },
  {
   "cell_type": "markdown",
   "metadata": {},
   "source": [
    "This moodle is not performing good, we will develope  btter model."
   ]
  },
  {
   "cell_type": "code",
   "execution_count": 45,
   "metadata": {},
   "outputs": [],
   "source": [
    "lgd_lr_model.feature_names = filtered_x_train_lr.columns.values"
   ]
  },
  {
   "cell_type": "code",
   "execution_count": 46,
   "metadata": {},
   "outputs": [
    {
     "data": {
      "text/html": [
       "<div>\n",
       "<style scoped>\n",
       "    .dataframe tbody tr th:only-of-type {\n",
       "        vertical-align: middle;\n",
       "    }\n",
       "\n",
       "    .dataframe tbody tr th {\n",
       "        vertical-align: top;\n",
       "    }\n",
       "\n",
       "    .dataframe thead th {\n",
       "        text-align: right;\n",
       "    }\n",
       "</style>\n",
       "<table border=\"1\" class=\"dataframe\">\n",
       "  <thead>\n",
       "    <tr style=\"text-align: right;\">\n",
       "      <th></th>\n",
       "      <th>feature</th>\n",
       "      <th>coefficients</th>\n",
       "      <th>p_value</th>\n",
       "    </tr>\n",
       "  </thead>\n",
       "  <tbody>\n",
       "    <tr>\n",
       "      <th>0</th>\n",
       "      <td>intercept</td>\n",
       "      <td>4.032236e-01</td>\n",
       "      <td>NaN</td>\n",
       "    </tr>\n",
       "    <tr>\n",
       "      <th>1</th>\n",
       "      <td>grade:A</td>\n",
       "      <td>-6.762540e-02</td>\n",
       "      <td>0.0000</td>\n",
       "    </tr>\n",
       "    <tr>\n",
       "      <th>2</th>\n",
       "      <td>grade:B</td>\n",
       "      <td>-5.418444e-02</td>\n",
       "      <td>0.0000</td>\n",
       "    </tr>\n",
       "    <tr>\n",
       "      <th>3</th>\n",
       "      <td>grade:C</td>\n",
       "      <td>-4.147102e-02</td>\n",
       "      <td>0.0000</td>\n",
       "    </tr>\n",
       "    <tr>\n",
       "      <th>4</th>\n",
       "      <td>grade:D</td>\n",
       "      <td>-3.141012e-02</td>\n",
       "      <td>0.0000</td>\n",
       "    </tr>\n",
       "    <tr>\n",
       "      <th>5</th>\n",
       "      <td>grade:E</td>\n",
       "      <td>-1.850318e-02</td>\n",
       "      <td>0.0004</td>\n",
       "    </tr>\n",
       "    <tr>\n",
       "      <th>6</th>\n",
       "      <td>grade:F</td>\n",
       "      <td>-6.380345e-03</td>\n",
       "      <td>0.2152</td>\n",
       "    </tr>\n",
       "    <tr>\n",
       "      <th>7</th>\n",
       "      <td>home_ownership:MORTGAGE</td>\n",
       "      <td>-4.451539e-02</td>\n",
       "      <td>0.0165</td>\n",
       "    </tr>\n",
       "    <tr>\n",
       "      <th>8</th>\n",
       "      <td>home_ownership:NONE</td>\n",
       "      <td>1.396519e-01</td>\n",
       "      <td>0.0017</td>\n",
       "    </tr>\n",
       "    <tr>\n",
       "      <th>9</th>\n",
       "      <td>home_ownership:OTHER</td>\n",
       "      <td>-6.514103e-03</td>\n",
       "      <td>0.8001</td>\n",
       "    </tr>\n",
       "    <tr>\n",
       "      <th>10</th>\n",
       "      <td>home_ownership:OWN</td>\n",
       "      <td>-4.167128e-02</td>\n",
       "      <td>0.0254</td>\n",
       "    </tr>\n",
       "    <tr>\n",
       "      <th>11</th>\n",
       "      <td>home_ownership:RENT</td>\n",
       "      <td>-4.695108e-02</td>\n",
       "      <td>0.0113</td>\n",
       "    </tr>\n",
       "    <tr>\n",
       "      <th>12</th>\n",
       "      <td>verification_status:Not Verified</td>\n",
       "      <td>9.362285e-04</td>\n",
       "      <td>0.6010</td>\n",
       "    </tr>\n",
       "    <tr>\n",
       "      <th>13</th>\n",
       "      <td>verification_status:Source Verified</td>\n",
       "      <td>-1.943317e-03</td>\n",
       "      <td>0.2313</td>\n",
       "    </tr>\n",
       "    <tr>\n",
       "      <th>14</th>\n",
       "      <td>purpose:car</td>\n",
       "      <td>-7.629215e-04</td>\n",
       "      <td>0.8999</td>\n",
       "    </tr>\n",
       "    <tr>\n",
       "      <th>15</th>\n",
       "      <td>purpose:debt_consolidation</td>\n",
       "      <td>1.268778e-03</td>\n",
       "      <td>0.4887</td>\n",
       "    </tr>\n",
       "    <tr>\n",
       "      <th>16</th>\n",
       "      <td>purpose:educational</td>\n",
       "      <td>3.493744e-02</td>\n",
       "      <td>0.0068</td>\n",
       "    </tr>\n",
       "    <tr>\n",
       "      <th>17</th>\n",
       "      <td>purpose:home_improvement</td>\n",
       "      <td>-1.239703e-03</td>\n",
       "      <td>0.7063</td>\n",
       "    </tr>\n",
       "    <tr>\n",
       "      <th>18</th>\n",
       "      <td>purpose:house</td>\n",
       "      <td>-6.853462e-03</td>\n",
       "      <td>0.3790</td>\n",
       "    </tr>\n",
       "    <tr>\n",
       "      <th>19</th>\n",
       "      <td>purpose:major_purchase</td>\n",
       "      <td>-5.883228e-04</td>\n",
       "      <td>0.8990</td>\n",
       "    </tr>\n",
       "    <tr>\n",
       "      <th>20</th>\n",
       "      <td>purpose:medical</td>\n",
       "      <td>1.583120e-02</td>\n",
       "      <td>0.0075</td>\n",
       "    </tr>\n",
       "    <tr>\n",
       "      <th>21</th>\n",
       "      <td>purpose:moving</td>\n",
       "      <td>1.382475e-02</td>\n",
       "      <td>0.0391</td>\n",
       "    </tr>\n",
       "    <tr>\n",
       "      <th>22</th>\n",
       "      <td>purpose:other</td>\n",
       "      <td>2.705195e-03</td>\n",
       "      <td>0.3649</td>\n",
       "    </tr>\n",
       "    <tr>\n",
       "      <th>23</th>\n",
       "      <td>purpose:renewable_energy</td>\n",
       "      <td>2.569060e-02</td>\n",
       "      <td>0.1206</td>\n",
       "    </tr>\n",
       "    <tr>\n",
       "      <th>24</th>\n",
       "      <td>purpose:small_business</td>\n",
       "      <td>3.532397e-04</td>\n",
       "      <td>0.9242</td>\n",
       "    </tr>\n",
       "    <tr>\n",
       "      <th>25</th>\n",
       "      <td>purpose:vacation</td>\n",
       "      <td>-1.511781e-04</td>\n",
       "      <td>0.9854</td>\n",
       "    </tr>\n",
       "    <tr>\n",
       "      <th>26</th>\n",
       "      <td>purpose:wedding</td>\n",
       "      <td>2.047560e-02</td>\n",
       "      <td>0.0048</td>\n",
       "    </tr>\n",
       "    <tr>\n",
       "      <th>27</th>\n",
       "      <td>initial_list_status:w</td>\n",
       "      <td>1.455634e-02</td>\n",
       "      <td>0.0000</td>\n",
       "    </tr>\n",
       "    <tr>\n",
       "      <th>28</th>\n",
       "      <td>term</td>\n",
       "      <td>1.832450e-04</td>\n",
       "      <td>0.2157</td>\n",
       "    </tr>\n",
       "    <tr>\n",
       "      <th>29</th>\n",
       "      <td>emp_length</td>\n",
       "      <td>1.708876e-04</td>\n",
       "      <td>0.3636</td>\n",
       "    </tr>\n",
       "    <tr>\n",
       "      <th>30</th>\n",
       "      <td>months_since_issued_date</td>\n",
       "      <td>-1.401622e-03</td>\n",
       "      <td>0.0000</td>\n",
       "    </tr>\n",
       "    <tr>\n",
       "      <th>31</th>\n",
       "      <td>months_since_earliest_cr_line</td>\n",
       "      <td>1.924087e-05</td>\n",
       "      <td>0.0164</td>\n",
       "    </tr>\n",
       "    <tr>\n",
       "      <th>32</th>\n",
       "      <td>funded_amnt</td>\n",
       "      <td>9.560438e-08</td>\n",
       "      <td>0.8675</td>\n",
       "    </tr>\n",
       "    <tr>\n",
       "      <th>33</th>\n",
       "      <td>int_rate</td>\n",
       "      <td>-2.205894e-03</td>\n",
       "      <td>0.0000</td>\n",
       "    </tr>\n",
       "    <tr>\n",
       "      <th>34</th>\n",
       "      <td>installment</td>\n",
       "      <td>-2.152023e-05</td>\n",
       "      <td>0.2288</td>\n",
       "    </tr>\n",
       "    <tr>\n",
       "      <th>35</th>\n",
       "      <td>annual_inc</td>\n",
       "      <td>6.606301e-08</td>\n",
       "      <td>0.0004</td>\n",
       "    </tr>\n",
       "    <tr>\n",
       "      <th>36</th>\n",
       "      <td>dti</td>\n",
       "      <td>1.258880e-04</td>\n",
       "      <td>0.1935</td>\n",
       "    </tr>\n",
       "    <tr>\n",
       "      <th>37</th>\n",
       "      <td>delinq_2yrs</td>\n",
       "      <td>7.902112e-04</td>\n",
       "      <td>0.3742</td>\n",
       "    </tr>\n",
       "    <tr>\n",
       "      <th>38</th>\n",
       "      <td>inq_last_6mths</td>\n",
       "      <td>1.069217e-03</td>\n",
       "      <td>0.0443</td>\n",
       "    </tr>\n",
       "    <tr>\n",
       "      <th>39</th>\n",
       "      <td>mths_since_last_delinq</td>\n",
       "      <td>-3.422993e-05</td>\n",
       "      <td>0.2499</td>\n",
       "    </tr>\n",
       "    <tr>\n",
       "      <th>40</th>\n",
       "      <td>mths_since_last_record</td>\n",
       "      <td>8.832739e-07</td>\n",
       "      <td>0.9828</td>\n",
       "    </tr>\n",
       "    <tr>\n",
       "      <th>41</th>\n",
       "      <td>open_acc</td>\n",
       "      <td>-1.271490e-03</td>\n",
       "      <td>0.0000</td>\n",
       "    </tr>\n",
       "    <tr>\n",
       "      <th>42</th>\n",
       "      <td>pub_rec</td>\n",
       "      <td>7.363234e-04</td>\n",
       "      <td>0.7839</td>\n",
       "    </tr>\n",
       "    <tr>\n",
       "      <th>43</th>\n",
       "      <td>total_acc</td>\n",
       "      <td>4.614127e-04</td>\n",
       "      <td>0.0000</td>\n",
       "    </tr>\n",
       "    <tr>\n",
       "      <th>44</th>\n",
       "      <td>acc_now_delinq</td>\n",
       "      <td>-2.331602e-03</td>\n",
       "      <td>0.8001</td>\n",
       "    </tr>\n",
       "    <tr>\n",
       "      <th>45</th>\n",
       "      <td>total_rev_hi_lim</td>\n",
       "      <td>2.864652e-07</td>\n",
       "      <td>0.0000</td>\n",
       "    </tr>\n",
       "  </tbody>\n",
       "</table>\n",
       "</div>"
      ],
      "text/plain": [
       "                                feature  coefficients  p_value\n",
       "0                             intercept  4.032236e-01      NaN\n",
       "1                               grade:A -6.762540e-02   0.0000\n",
       "2                               grade:B -5.418444e-02   0.0000\n",
       "3                               grade:C -4.147102e-02   0.0000\n",
       "4                               grade:D -3.141012e-02   0.0000\n",
       "5                               grade:E -1.850318e-02   0.0004\n",
       "6                               grade:F -6.380345e-03   0.2152\n",
       "7               home_ownership:MORTGAGE -4.451539e-02   0.0165\n",
       "8                   home_ownership:NONE  1.396519e-01   0.0017\n",
       "9                  home_ownership:OTHER -6.514103e-03   0.8001\n",
       "10                   home_ownership:OWN -4.167128e-02   0.0254\n",
       "11                  home_ownership:RENT -4.695108e-02   0.0113\n",
       "12     verification_status:Not Verified  9.362285e-04   0.6010\n",
       "13  verification_status:Source Verified -1.943317e-03   0.2313\n",
       "14                          purpose:car -7.629215e-04   0.8999\n",
       "15           purpose:debt_consolidation  1.268778e-03   0.4887\n",
       "16                  purpose:educational  3.493744e-02   0.0068\n",
       "17             purpose:home_improvement -1.239703e-03   0.7063\n",
       "18                        purpose:house -6.853462e-03   0.3790\n",
       "19               purpose:major_purchase -5.883228e-04   0.8990\n",
       "20                      purpose:medical  1.583120e-02   0.0075\n",
       "21                       purpose:moving  1.382475e-02   0.0391\n",
       "22                        purpose:other  2.705195e-03   0.3649\n",
       "23             purpose:renewable_energy  2.569060e-02   0.1206\n",
       "24               purpose:small_business  3.532397e-04   0.9242\n",
       "25                     purpose:vacation -1.511781e-04   0.9854\n",
       "26                      purpose:wedding  2.047560e-02   0.0048\n",
       "27                initial_list_status:w  1.455634e-02   0.0000\n",
       "28                                 term  1.832450e-04   0.2157\n",
       "29                           emp_length  1.708876e-04   0.3636\n",
       "30             months_since_issued_date -1.401622e-03   0.0000\n",
       "31        months_since_earliest_cr_line  1.924087e-05   0.0164\n",
       "32                          funded_amnt  9.560438e-08   0.8675\n",
       "33                             int_rate -2.205894e-03   0.0000\n",
       "34                          installment -2.152023e-05   0.2288\n",
       "35                           annual_inc  6.606301e-08   0.0004\n",
       "36                                  dti  1.258880e-04   0.1935\n",
       "37                          delinq_2yrs  7.902112e-04   0.3742\n",
       "38                       inq_last_6mths  1.069217e-03   0.0443\n",
       "39               mths_since_last_delinq -3.422993e-05   0.2499\n",
       "40               mths_since_last_record  8.832739e-07   0.9828\n",
       "41                             open_acc -1.271490e-03   0.0000\n",
       "42                              pub_rec  7.363234e-04   0.7839\n",
       "43                            total_acc  4.614127e-04   0.0000\n",
       "44                       acc_now_delinq -2.331602e-03   0.8001\n",
       "45                     total_rev_hi_lim  2.864652e-07   0.0000"
      ]
     },
     "execution_count": 46,
     "metadata": {},
     "output_type": "execute_result"
    }
   ],
   "source": [
    "summary = pd.DataFrame(columns=[\"feature\"], data=lgd_lr_model.feature_names)\n",
    "summary[\"coefficients\"] = np.transpose(lgd_lr_model.coef_)\n",
    "summary['p_value'] = lgd_lr_model.p.round(4)\n",
    "summary.index = summary.index + 1\n",
    "summary.loc[0] = [\"intercept\", lgd_lr_model.intercept_, np.nan]\n",
    "summary = summary.sort_index()\n",
    "summary"
   ]
  },
  {
   "cell_type": "markdown",
   "metadata": {},
   "source": [
    "Les build another linear regression model for the EAD estimation."
   ]
  },
  {
   "cell_type": "code",
   "execution_count": 47,
   "metadata": {},
   "outputs": [
    {
     "name": "stdout",
     "output_type": "stream",
     "text": [
      "[Train]: x:(19496, 298), y:(19496,),  [Test]: x:(4875, 298), y: (4875,)\n"
     ]
    }
   ],
   "source": [
    "x_train_ead, x_test_ead, y_train_ead, y_test_ead = train_test_split(lr_data_copy.drop([\"good_bad\", \"recovery_rate\", \"recovery_rate_0_1\", \"ccf\"], axis=1), lr_data_copy[\"ccf\"], test_size=0.2, random_state=45)\n",
    "print(f\"[Train]: x:{x_train_ead.shape}, y:{y_train_ead.shape},  [Test]: x:{x_test_ead.shape}, y: {y_test_ead.shape}\")"
   ]
  },
  {
   "cell_type": "code",
   "execution_count": 48,
   "metadata": {},
   "outputs": [
    {
     "name": "stdout",
     "output_type": "stream",
     "text": [
      "final train data shape: (19496, 45)\n"
     ]
    }
   ],
   "source": [
    "filtered_x_train_ead = x_train_ead[features_all]\n",
    "filtered_x_train_ead = filtered_x_train_ead.drop(ref_category_list, axis=1)\n",
    "\n",
    "\n",
    "filtered_x_test_ead = x_test_ead[features_all]\n",
    "filtered_x_test_ead = filtered_x_test_ead.drop(ref_category_list, axis=1)\n",
    "\n",
    "print(f\"final train data shape: {filtered_x_train_ead.shape}\")"
   ]
  },
  {
   "cell_type": "code",
   "execution_count": 49,
   "metadata": {},
   "outputs": [],
   "source": [
    "ead_model = LinearRegressionWrapper()\n",
    "ead_model.fit(filtered_x_train_ead, y_train_ead)\n",
    "ead_model.feature_names = filtered_x_train_ead.columns.values"
   ]
  },
  {
   "cell_type": "code",
   "execution_count": 50,
   "metadata": {},
   "outputs": [
    {
     "name": "stdout",
     "output_type": "stream",
     "text": [
      "MAE: 0.12970958890417\n"
     ]
    }
   ],
   "source": [
    "y_hat_ead = ead_model.predict(filtered_x_test_ead)\n",
    "mae = mean_absolute_error(y_test_ead, y_hat_ead)\n",
    "print(f\"MAE: {mae}\")"
   ]
  },
  {
   "cell_type": "code",
   "execution_count": 51,
   "metadata": {},
   "outputs": [
    {
     "data": {
      "text/plain": [
       "<Figure size 800x600 with 0 Axes>"
      ]
     },
     "metadata": {},
     "output_type": "display_data"
    },
    {
     "data": {
      "image/png": "[encoded data removed]",
      "text/plain": [
       "<Figure size 640x480 with 1 Axes>"
      ]
     },
     "metadata": {},
     "output_type": "display_data"
    }
   ],
   "source": [
    "residuals = y_test_ead - y_hat_ead\n",
    "\n",
    "plt.figure(figsize=(8, 6))\n",
    "sm.qqplot(residuals, line='s')\n",
    "# Set plot labels and title\n",
    "plt.title('QQ Plot of Residuals')\n",
    "plt.xlabel('Theoretical Quantile')\n",
    "# Show the plot\n",
    "plt.show()"
   ]
  },
  {
   "cell_type": "code",
   "execution_count": 52,
   "metadata": {},
   "outputs": [
    {
     "data": {
      "text/plain": [
       "count            46\n",
       "unique           46\n",
       "top       intercept\n",
       "freq              1\n",
       "Name: feature, dtype: object"
      ]
     },
     "execution_count": 52,
     "metadata": {},
     "output_type": "execute_result"
    }
   ],
   "source": [
    "summary.feature.describe()"
   ]
  },
  {
   "cell_type": "code",
   "execution_count": 53,
   "metadata": {},
   "outputs": [
    {
     "data": {
      "text/html": [
       "<div>\n",
       "<style scoped>\n",
       "    .dataframe tbody tr th:only-of-type {\n",
       "        vertical-align: middle;\n",
       "    }\n",
       "\n",
       "    .dataframe tbody tr th {\n",
       "        vertical-align: top;\n",
       "    }\n",
       "\n",
       "    .dataframe thead th {\n",
       "        text-align: right;\n",
       "    }\n",
       "</style>\n",
       "<table border=\"1\" class=\"dataframe\">\n",
       "  <thead>\n",
       "    <tr style=\"text-align: right;\">\n",
       "      <th></th>\n",
       "      <th>feature</th>\n",
       "      <th>coefficients</th>\n",
       "      <th>p_value</th>\n",
       "    </tr>\n",
       "  </thead>\n",
       "  <tbody>\n",
       "    <tr>\n",
       "      <th>0</th>\n",
       "      <td>intercept</td>\n",
       "      <td>1.564457e+00</td>\n",
       "      <td>NaN</td>\n",
       "    </tr>\n",
       "    <tr>\n",
       "      <th>1</th>\n",
       "      <td>grade:A</td>\n",
       "      <td>-2.521382e-01</td>\n",
       "      <td>0.0000</td>\n",
       "    </tr>\n",
       "    <tr>\n",
       "      <th>2</th>\n",
       "      <td>grade:B</td>\n",
       "      <td>-1.927740e-01</td>\n",
       "      <td>0.0000</td>\n",
       "    </tr>\n",
       "    <tr>\n",
       "      <th>3</th>\n",
       "      <td>grade:C</td>\n",
       "      <td>-1.387701e-01</td>\n",
       "      <td>0.0000</td>\n",
       "    </tr>\n",
       "    <tr>\n",
       "      <th>4</th>\n",
       "      <td>grade:D</td>\n",
       "      <td>-9.413940e-02</td>\n",
       "      <td>0.0000</td>\n",
       "    </tr>\n",
       "    <tr>\n",
       "      <th>5</th>\n",
       "      <td>grade:E</td>\n",
       "      <td>-5.564444e-02</td>\n",
       "      <td>0.0000</td>\n",
       "    </tr>\n",
       "    <tr>\n",
       "      <th>6</th>\n",
       "      <td>grade:F</td>\n",
       "      <td>-1.865010e-02</td>\n",
       "      <td>0.0589</td>\n",
       "    </tr>\n",
       "    <tr>\n",
       "      <th>7</th>\n",
       "      <td>home_ownership:MORTGAGE</td>\n",
       "      <td>-2.466594e-02</td>\n",
       "      <td>0.4886</td>\n",
       "    </tr>\n",
       "    <tr>\n",
       "      <th>8</th>\n",
       "      <td>home_ownership:NONE</td>\n",
       "      <td>6.846095e-02</td>\n",
       "      <td>0.4226</td>\n",
       "    </tr>\n",
       "    <tr>\n",
       "      <th>9</th>\n",
       "      <td>home_ownership:OTHER</td>\n",
       "      <td>-1.843127e-02</td>\n",
       "      <td>0.7087</td>\n",
       "    </tr>\n",
       "    <tr>\n",
       "      <th>10</th>\n",
       "      <td>home_ownership:OWN</td>\n",
       "      <td>-9.824673e-03</td>\n",
       "      <td>0.7834</td>\n",
       "    </tr>\n",
       "    <tr>\n",
       "      <th>11</th>\n",
       "      <td>home_ownership:RENT</td>\n",
       "      <td>-1.553907e-02</td>\n",
       "      <td>0.6618</td>\n",
       "    </tr>\n",
       "    <tr>\n",
       "      <th>12</th>\n",
       "      <td>verification_status:Not Verified</td>\n",
       "      <td>1.982197e-03</td>\n",
       "      <td>0.5637</td>\n",
       "    </tr>\n",
       "    <tr>\n",
       "      <th>13</th>\n",
       "      <td>verification_status:Source Verified</td>\n",
       "      <td>4.111367e-03</td>\n",
       "      <td>0.1867</td>\n",
       "    </tr>\n",
       "    <tr>\n",
       "      <th>14</th>\n",
       "      <td>purpose:car</td>\n",
       "      <td>-9.697437e-04</td>\n",
       "      <td>0.9336</td>\n",
       "    </tr>\n",
       "    <tr>\n",
       "      <th>15</th>\n",
       "      <td>purpose:debt_consolidation</td>\n",
       "      <td>1.555844e-02</td>\n",
       "      <td>0.0000</td>\n",
       "    </tr>\n",
       "    <tr>\n",
       "      <th>16</th>\n",
       "      <td>purpose:educational</td>\n",
       "      <td>1.255339e-01</td>\n",
       "      <td>0.0000</td>\n",
       "    </tr>\n",
       "    <tr>\n",
       "      <th>17</th>\n",
       "      <td>purpose:home_improvement</td>\n",
       "      <td>2.703436e-02</td>\n",
       "      <td>0.0000</td>\n",
       "    </tr>\n",
       "    <tr>\n",
       "      <th>18</th>\n",
       "      <td>purpose:house</td>\n",
       "      <td>1.995951e-02</td>\n",
       "      <td>0.1816</td>\n",
       "    </tr>\n",
       "    <tr>\n",
       "      <th>19</th>\n",
       "      <td>purpose:major_purchase</td>\n",
       "      <td>3.950994e-02</td>\n",
       "      <td>0.0000</td>\n",
       "    </tr>\n",
       "    <tr>\n",
       "      <th>20</th>\n",
       "      <td>purpose:medical</td>\n",
       "      <td>4.031354e-02</td>\n",
       "      <td>0.0004</td>\n",
       "    </tr>\n",
       "    <tr>\n",
       "      <th>21</th>\n",
       "      <td>purpose:moving</td>\n",
       "      <td>5.664393e-02</td>\n",
       "      <td>0.0000</td>\n",
       "    </tr>\n",
       "    <tr>\n",
       "      <th>22</th>\n",
       "      <td>purpose:other</td>\n",
       "      <td>4.586992e-02</td>\n",
       "      <td>0.0000</td>\n",
       "    </tr>\n",
       "    <tr>\n",
       "      <th>23</th>\n",
       "      <td>purpose:renewable_energy</td>\n",
       "      <td>1.080936e-01</td>\n",
       "      <td>0.0007</td>\n",
       "    </tr>\n",
       "    <tr>\n",
       "      <th>24</th>\n",
       "      <td>purpose:small_business</td>\n",
       "      <td>5.855918e-02</td>\n",
       "      <td>0.0000</td>\n",
       "    </tr>\n",
       "    <tr>\n",
       "      <th>25</th>\n",
       "      <td>purpose:vacation</td>\n",
       "      <td>1.432927e-02</td>\n",
       "      <td>0.3673</td>\n",
       "    </tr>\n",
       "    <tr>\n",
       "      <th>26</th>\n",
       "      <td>purpose:wedding</td>\n",
       "      <td>7.193789e-02</td>\n",
       "      <td>0.0000</td>\n",
       "    </tr>\n",
       "    <tr>\n",
       "      <th>27</th>\n",
       "      <td>initial_list_status:w</td>\n",
       "      <td>1.675429e-02</td>\n",
       "      <td>0.0000</td>\n",
       "    </tr>\n",
       "    <tr>\n",
       "      <th>28</th>\n",
       "      <td>term</td>\n",
       "      <td>3.771681e-03</td>\n",
       "      <td>0.0000</td>\n",
       "    </tr>\n",
       "    <tr>\n",
       "      <th>29</th>\n",
       "      <td>emp_length</td>\n",
       "      <td>-1.841125e-03</td>\n",
       "      <td>0.0000</td>\n",
       "    </tr>\n",
       "    <tr>\n",
       "      <th>30</th>\n",
       "      <td>months_since_issued_date</td>\n",
       "      <td>-5.093000e-03</td>\n",
       "      <td>0.0000</td>\n",
       "    </tr>\n",
       "    <tr>\n",
       "      <th>31</th>\n",
       "      <td>months_since_earliest_cr_line</td>\n",
       "      <td>-6.761070e-05</td>\n",
       "      <td>0.0000</td>\n",
       "    </tr>\n",
       "    <tr>\n",
       "      <th>32</th>\n",
       "      <td>funded_amnt</td>\n",
       "      <td>3.440311e-06</td>\n",
       "      <td>0.0018</td>\n",
       "    </tr>\n",
       "    <tr>\n",
       "      <th>33</th>\n",
       "      <td>int_rate</td>\n",
       "      <td>-7.492185e-03</td>\n",
       "      <td>0.0000</td>\n",
       "    </tr>\n",
       "    <tr>\n",
       "      <th>34</th>\n",
       "      <td>installment</td>\n",
       "      <td>-1.150845e-04</td>\n",
       "      <td>0.0008</td>\n",
       "    </tr>\n",
       "    <tr>\n",
       "      <th>35</th>\n",
       "      <td>annual_inc</td>\n",
       "      <td>1.203538e-08</td>\n",
       "      <td>0.7377</td>\n",
       "    </tr>\n",
       "    <tr>\n",
       "      <th>36</th>\n",
       "      <td>dti</td>\n",
       "      <td>-2.442521e-05</td>\n",
       "      <td>0.8953</td>\n",
       "    </tr>\n",
       "    <tr>\n",
       "      <th>37</th>\n",
       "      <td>delinq_2yrs</td>\n",
       "      <td>2.005615e-03</td>\n",
       "      <td>0.2396</td>\n",
       "    </tr>\n",
       "    <tr>\n",
       "      <th>38</th>\n",
       "      <td>inq_last_6mths</td>\n",
       "      <td>1.131915e-02</td>\n",
       "      <td>0.0000</td>\n",
       "    </tr>\n",
       "    <tr>\n",
       "      <th>39</th>\n",
       "      <td>mths_since_last_delinq</td>\n",
       "      <td>-1.757319e-04</td>\n",
       "      <td>0.0021</td>\n",
       "    </tr>\n",
       "    <tr>\n",
       "      <th>40</th>\n",
       "      <td>mths_since_last_record</td>\n",
       "      <td>-7.190769e-05</td>\n",
       "      <td>0.3591</td>\n",
       "    </tr>\n",
       "    <tr>\n",
       "      <th>41</th>\n",
       "      <td>open_acc</td>\n",
       "      <td>-2.314755e-03</td>\n",
       "      <td>0.0000</td>\n",
       "    </tr>\n",
       "    <tr>\n",
       "      <th>42</th>\n",
       "      <td>pub_rec</td>\n",
       "      <td>8.899034e-03</td>\n",
       "      <td>0.0839</td>\n",
       "    </tr>\n",
       "    <tr>\n",
       "      <th>43</th>\n",
       "      <td>total_acc</td>\n",
       "      <td>3.196132e-04</td>\n",
       "      <td>0.0533</td>\n",
       "    </tr>\n",
       "    <tr>\n",
       "      <th>44</th>\n",
       "      <td>acc_now_delinq</td>\n",
       "      <td>2.056297e-02</td>\n",
       "      <td>0.2444</td>\n",
       "    </tr>\n",
       "    <tr>\n",
       "      <th>45</th>\n",
       "      <td>total_rev_hi_lim</td>\n",
       "      <td>3.573160e-07</td>\n",
       "      <td>0.0000</td>\n",
       "    </tr>\n",
       "  </tbody>\n",
       "</table>\n",
       "</div>"
      ],
      "text/plain": [
       "                                feature  coefficients  p_value\n",
       "0                             intercept  1.564457e+00      NaN\n",
       "1                               grade:A -2.521382e-01   0.0000\n",
       "2                               grade:B -1.927740e-01   0.0000\n",
       "3                               grade:C -1.387701e-01   0.0000\n",
       "4                               grade:D -9.413940e-02   0.0000\n",
       "5                               grade:E -5.564444e-02   0.0000\n",
       "6                               grade:F -1.865010e-02   0.0589\n",
       "7               home_ownership:MORTGAGE -2.466594e-02   0.4886\n",
       "8                   home_ownership:NONE  6.846095e-02   0.4226\n",
       "9                  home_ownership:OTHER -1.843127e-02   0.7087\n",
       "10                   home_ownership:OWN -9.824673e-03   0.7834\n",
       "11                  home_ownership:RENT -1.553907e-02   0.6618\n",
       "12     verification_status:Not Verified  1.982197e-03   0.5637\n",
       "13  verification_status:Source Verified  4.111367e-03   0.1867\n",
       "14                          purpose:car -9.697437e-04   0.9336\n",
       "15           purpose:debt_consolidation  1.555844e-02   0.0000\n",
       "16                  purpose:educational  1.255339e-01   0.0000\n",
       "17             purpose:home_improvement  2.703436e-02   0.0000\n",
       "18                        purpose:house  1.995951e-02   0.1816\n",
       "19               purpose:major_purchase  3.950994e-02   0.0000\n",
       "20                      purpose:medical  4.031354e-02   0.0004\n",
       "21                       purpose:moving  5.664393e-02   0.0000\n",
       "22                        purpose:other  4.586992e-02   0.0000\n",
       "23             purpose:renewable_energy  1.080936e-01   0.0007\n",
       "24               purpose:small_business  5.855918e-02   0.0000\n",
       "25                     purpose:vacation  1.432927e-02   0.3673\n",
       "26                      purpose:wedding  7.193789e-02   0.0000\n",
       "27                initial_list_status:w  1.675429e-02   0.0000\n",
       "28                                 term  3.771681e-03   0.0000\n",
       "29                           emp_length -1.841125e-03   0.0000\n",
       "30             months_since_issued_date -5.093000e-03   0.0000\n",
       "31        months_since_earliest_cr_line -6.761070e-05   0.0000\n",
       "32                          funded_amnt  3.440311e-06   0.0018\n",
       "33                             int_rate -7.492185e-03   0.0000\n",
       "34                          installment -1.150845e-04   0.0008\n",
       "35                           annual_inc  1.203538e-08   0.7377\n",
       "36                                  dti -2.442521e-05   0.8953\n",
       "37                          delinq_2yrs  2.005615e-03   0.2396\n",
       "38                       inq_last_6mths  1.131915e-02   0.0000\n",
       "39               mths_since_last_delinq -1.757319e-04   0.0021\n",
       "40               mths_since_last_record -7.190769e-05   0.3591\n",
       "41                             open_acc -2.314755e-03   0.0000\n",
       "42                              pub_rec  8.899034e-03   0.0839\n",
       "43                            total_acc  3.196132e-04   0.0533\n",
       "44                       acc_now_delinq  2.056297e-02   0.2444\n",
       "45                     total_rev_hi_lim  3.573160e-07   0.0000"
      ]
     },
     "execution_count": 53,
     "metadata": {},
     "output_type": "execute_result"
    }
   ],
   "source": [
    "summary = pd.DataFrame(columns=[\"feature\"], data=ead_model.feature_names)\n",
    "summary[\"coefficients\"] = np.transpose(ead_model.coef_)\n",
    "summary['p_value'] = ead_model.p.round(4)\n",
    "summary.index = summary.index + 1\n",
    "summary.loc[0] = [\"intercept\", ead_model.intercept_, np.nan]\n",
    "summary = summary.sort_index()\n",
    "summary"
   ]
  },
  {
   "cell_type": "code",
   "execution_count": 54,
   "metadata": {},
   "outputs": [
    {
     "data": {
      "text/html": [
       "<div>\n",
       "<style scoped>\n",
       "    .dataframe tbody tr th:only-of-type {\n",
       "        vertical-align: middle;\n",
       "    }\n",
       "\n",
       "    .dataframe tbody tr th {\n",
       "        vertical-align: top;\n",
       "    }\n",
       "\n",
       "    .dataframe thead th {\n",
       "        text-align: right;\n",
       "    }\n",
       "</style>\n",
       "<table border=\"1\" class=\"dataframe\">\n",
       "  <thead>\n",
       "    <tr style=\"text-align: right;\">\n",
       "      <th></th>\n",
       "      <th>0</th>\n",
       "    </tr>\n",
       "  </thead>\n",
       "  <tbody>\n",
       "    <tr>\n",
       "      <th>count</th>\n",
       "      <td>4875.000000</td>\n",
       "    </tr>\n",
       "    <tr>\n",
       "      <th>mean</th>\n",
       "      <td>0.735378</td>\n",
       "    </tr>\n",
       "    <tr>\n",
       "      <th>std</th>\n",
       "      <td>0.116270</td>\n",
       "    </tr>\n",
       "    <tr>\n",
       "      <th>min</th>\n",
       "      <td>0.350637</td>\n",
       "    </tr>\n",
       "    <tr>\n",
       "      <th>25%</th>\n",
       "      <td>0.656702</td>\n",
       "    </tr>\n",
       "    <tr>\n",
       "      <th>50%</th>\n",
       "      <td>0.736161</td>\n",
       "    </tr>\n",
       "    <tr>\n",
       "      <th>75%</th>\n",
       "      <td>0.818138</td>\n",
       "    </tr>\n",
       "    <tr>\n",
       "      <th>max</th>\n",
       "      <td>1.062135</td>\n",
       "    </tr>\n",
       "  </tbody>\n",
       "</table>\n",
       "</div>"
      ],
      "text/plain": [
       "                 0\n",
       "count  4875.000000\n",
       "mean      0.735378\n",
       "std       0.116270\n",
       "min       0.350637\n",
       "25%       0.656702\n",
       "50%       0.736161\n",
       "75%       0.818138\n",
       "max       1.062135"
      ]
     },
     "execution_count": 54,
     "metadata": {},
     "output_type": "execute_result"
    }
   ],
   "source": [
    "pd.DataFrame(y_hat_ead).describe()"
   ]
  },
  {
   "cell_type": "code",
   "execution_count": 55,
   "metadata": {},
   "outputs": [
    {
     "data": {
      "text/plain": [
       "['./models/ead_zero.joblib']"
      ]
     },
     "execution_count": 55,
     "metadata": {},
     "output_type": "execute_result"
    }
   ],
   "source": [
    "dump(ead_model, f\"{model_path}ead_zero.joblib\")"
   ]
  }
 ],
 "metadata": {
  "kernelspec": {
   "display_name": "nlp",
   "language": "python",
   "name": "python3"
  },
  "language_info": {
   "codemirror_mode": {
    "name": "ipython",
    "version": 3
   },
   "file_extension": ".py",
   "mimetype": "text/x-python",
   "name": "python",
   "nbconvert_exporter": "python",
   "pygments_lexer": "ipython3",
   "version": "3.9.18"
  }
 },
 "nbformat": 4,
 "nbformat_minor": 2
}
